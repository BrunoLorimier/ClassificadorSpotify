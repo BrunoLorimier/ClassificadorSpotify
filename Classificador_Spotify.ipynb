{
  "nbformat": 4,
  "nbformat_minor": 0,
  "metadata": {
    "colab": {
      "provenance": []
    },
    "kernelspec": {
      "name": "python3",
      "display_name": "Python 3"
    },
    "language_info": {
      "name": "python"
    }
  },
  "cells": [
    {
      "cell_type": "markdown",
      "source": [
        "Um programa em Python que analisa o Dataset “Spotify Top 200 Charts (2020-2021)”, que engloba todas as músicas que estiveram no Top 200 Weekly (Global) charts do Spotify em 2020 e 2021. Utilizando um comitê de classificadores, o programa estima a popularidade das músicas. Para isso, emprega algoritmos de aprendizado de máquina como KNN (K-Nearest Neighbors), Naive Bayes e SVM (Support Vector Machine)."
      ],
      "metadata": {
        "id": "x9N1hyOcJAGf"
      }
    },
    {
      "cell_type": "markdown",
      "source": [
        "#Imports\n"
      ],
      "metadata": {
        "id": "2WgJZGmjGP2g"
      }
    },
    {
      "cell_type": "code",
      "source": [
        "import pandas as pd\n",
        "import numpy as np\n",
        "import matplotlib\n",
        "import matplotlib.pyplot as plt\n",
        "from sklearn.preprocessing import StandardScaler\n",
        "from sklearn.metrics import ConfusionMatrixDisplay\n",
        "\n",
        "from sklearn.dummy import DummyClassifier\n",
        "from sklearn.metrics import classification_report\n",
        "from sklearn.model_selection import train_test_split\n",
        "from sklearn.model_selection import KFold\n",
        "from sklearn.model_selection import cross_val_score\n",
        "from sklearn.model_selection import GridSearchCV\n",
        "from sklearn.metrics import confusion_matrix\n",
        "\n",
        "from sklearn.metrics import accuracy_score\n",
        "from sklearn.pipeline import Pipeline\n",
        "from sklearn.linear_model import LogisticRegression\n",
        "from sklearn.tree import DecisionTreeClassifier\n",
        "from sklearn.neighbors import KNeighborsClassifier\n",
        "from sklearn.naive_bayes import GaussianNB\n",
        "from sklearn.svm import SVC\n",
        "import seaborn as sns\n",
        "from sklearn import svm\n",
        "from sklearn.naive_bayes import GaussianNB\n",
        "from sklearn.preprocessing import Normalizer\n",
        "# remover warnings\n",
        "import warnings\n",
        "warnings.filterwarnings(\"ignore\")"
      ],
      "metadata": {
        "id": "MAHfmBprGSIa"
      },
      "execution_count": null,
      "outputs": []
    },
    {
      "cell_type": "markdown",
      "source": [
        "# Dataset"
      ],
      "metadata": {
        "id": "koPmJ1fxIeov"
      }
    },
    {
      "cell_type": "code",
      "execution_count": null,
      "metadata": {
        "colab": {
          "resources": {
            "http://localhost:8080/nbextensions/google.colab/files.js": {
              "data": "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",
              "ok": true,
              "headers": [
                [
                  "content-type",
                  "application/javascript"
                ]
              ],
              "status": 200,
              "status_text": ""
            }
          },
          "base_uri": "https://localhost:8080/",
          "height": 73
        },
        "id": "amLtPA1xBzjb",
        "outputId": "f5c4aac3-19f2-4692-fbbb-2f798985187f"
      },
      "outputs": [
        {
          "output_type": "display_data",
          "data": {
            "text/plain": [
              "<IPython.core.display.HTML object>"
            ],
            "text/html": [
              "\n",
              "     <input type=\"file\" id=\"files-93f5ef67-7029-4c57-a622-05957a21b967\" name=\"files[]\" multiple disabled\n",
              "        style=\"border:none\" />\n",
              "     <output id=\"result-93f5ef67-7029-4c57-a622-05957a21b967\">\n",
              "      Upload widget is only available when the cell has been executed in the\n",
              "      current browser session. Please rerun this cell to enable.\n",
              "      </output>\n",
              "      <script src=\"/nbextensions/google.colab/files.js\"></script> "
            ]
          },
          "metadata": {}
        },
        {
          "output_type": "stream",
          "name": "stdout",
          "text": [
            "Saving spotify_dataset.csv to spotify_dataset.csv\n"
          ]
        }
      ],
      "source": [
        "from google.colab import files\n",
        "uploaded = files.upload()"
      ]
    },
    {
      "cell_type": "code",
      "source": [
        "s1 = pd.read_csv('spotify_dataset.csv')"
      ],
      "metadata": {
        "id": "nv_3RQbECpjz"
      },
      "execution_count": null,
      "outputs": []
    },
    {
      "cell_type": "code",
      "source": [
        "s1.drop(['Index', 'Week of Highest Charting', 'Song Name', 'Artist', 'Song ID', 'Genre', 'Release Date', 'Weeks Charted', 'Tempo', 'Duration (ms)',\n",
        "'Valence', 'Chord', 'Energy', 'Loudness', 'Speechiness', 'Acousticness', 'Liveness'],axis=1,inplace=True)"
      ],
      "metadata": {
        "id": "PqLhTZAGIbK3"
      },
      "execution_count": null,
      "outputs": []
    },
    {
      "cell_type": "code",
      "source": [
        "s1.columns"
      ],
      "metadata": {
        "colab": {
          "base_uri": "https://localhost:8080/"
        },
        "id": "pw3cI4cDp8tx",
        "outputId": "f6311e60-31b1-48e0-b5e8-b7e98571adb3"
      },
      "execution_count": null,
      "outputs": [
        {
          "output_type": "execute_result",
          "data": {
            "text/plain": [
              "Index(['Highest Charting Position', 'Number of Times Charted', 'Streams',\n",
              "       'Artist Followers', 'Popularity', 'Danceability'],\n",
              "      dtype='object')"
            ]
          },
          "metadata": {},
          "execution_count": 5
        }
      ]
    },
    {
      "cell_type": "code",
      "source": [
        "s1.dtypes"
      ],
      "metadata": {
        "colab": {
          "base_uri": "https://localhost:8080/"
        },
        "id": "w43wbE-_p_Di",
        "outputId": "7f6fc612-d097-47a0-abec-d9e752fa68b5"
      },
      "execution_count": null,
      "outputs": [
        {
          "output_type": "execute_result",
          "data": {
            "text/plain": [
              "Highest Charting Position      int64\n",
              "Number of Times Charted        int64\n",
              "Streams                       object\n",
              "Artist Followers             float64\n",
              "Popularity                   float64\n",
              "Danceability                 float64\n",
              "dtype: object"
            ]
          },
          "metadata": {},
          "execution_count": 6
        }
      ]
    },
    {
      "cell_type": "code",
      "source": [
        "s1.shape"
      ],
      "metadata": {
        "colab": {
          "base_uri": "https://localhost:8080/"
        },
        "id": "AXPcc7MNDB8c",
        "outputId": "c8999a9c-2ce9-407f-d4d6-bd766e28c5c7"
      },
      "execution_count": null,
      "outputs": [
        {
          "output_type": "execute_result",
          "data": {
            "text/plain": [
              "(1556, 6)"
            ]
          },
          "metadata": {},
          "execution_count": 7
        }
      ]
    },
    {
      "cell_type": "code",
      "source": [
        "s1.head()"
      ],
      "metadata": {
        "colab": {
          "base_uri": "https://localhost:8080/",
          "height": 206
        },
        "id": "876xPCtcDfFS",
        "outputId": "0c01c857-b952-4324-bb0a-c4a2a6715ce5"
      },
      "execution_count": null,
      "outputs": [
        {
          "output_type": "execute_result",
          "data": {
            "text/plain": [
              "   Highest Charting Position  Number of Times Charted     Streams  \\\n",
              "0                          1                        8  48,633,449   \n",
              "1                          2                        3  47,248,719   \n",
              "2                          1                       11  40,162,559   \n",
              "3                          3                        5  37,799,456   \n",
              "4                          5                        1  33,948,454   \n",
              "\n",
              "   Artist Followers  Popularity  Danceability  \n",
              "0         3377762.0       100.0         714.0  \n",
              "1         2230022.0        99.0         591.0  \n",
              "2         6266514.0        99.0         563.0  \n",
              "3        83293380.0        98.0         808.0  \n",
              "4         5473565.0        96.0         736.0  "
            ],
            "text/html": [
              "\n",
              "  <div id=\"df-13238ba4-85a6-45c0-a265-449e13c40192\">\n",
              "    <div class=\"colab-df-container\">\n",
              "      <div>\n",
              "<style scoped>\n",
              "    .dataframe tbody tr th:only-of-type {\n",
              "        vertical-align: middle;\n",
              "    }\n",
              "\n",
              "    .dataframe tbody tr th {\n",
              "        vertical-align: top;\n",
              "    }\n",
              "\n",
              "    .dataframe thead th {\n",
              "        text-align: right;\n",
              "    }\n",
              "</style>\n",
              "<table border=\"1\" class=\"dataframe\">\n",
              "  <thead>\n",
              "    <tr style=\"text-align: right;\">\n",
              "      <th></th>\n",
              "      <th>Highest Charting Position</th>\n",
              "      <th>Number of Times Charted</th>\n",
              "      <th>Streams</th>\n",
              "      <th>Artist Followers</th>\n",
              "      <th>Popularity</th>\n",
              "      <th>Danceability</th>\n",
              "    </tr>\n",
              "  </thead>\n",
              "  <tbody>\n",
              "    <tr>\n",
              "      <th>0</th>\n",
              "      <td>1</td>\n",
              "      <td>8</td>\n",
              "      <td>48,633,449</td>\n",
              "      <td>3377762.0</td>\n",
              "      <td>100.0</td>\n",
              "      <td>714.0</td>\n",
              "    </tr>\n",
              "    <tr>\n",
              "      <th>1</th>\n",
              "      <td>2</td>\n",
              "      <td>3</td>\n",
              "      <td>47,248,719</td>\n",
              "      <td>2230022.0</td>\n",
              "      <td>99.0</td>\n",
              "      <td>591.0</td>\n",
              "    </tr>\n",
              "    <tr>\n",
              "      <th>2</th>\n",
              "      <td>1</td>\n",
              "      <td>11</td>\n",
              "      <td>40,162,559</td>\n",
              "      <td>6266514.0</td>\n",
              "      <td>99.0</td>\n",
              "      <td>563.0</td>\n",
              "    </tr>\n",
              "    <tr>\n",
              "      <th>3</th>\n",
              "      <td>3</td>\n",
              "      <td>5</td>\n",
              "      <td>37,799,456</td>\n",
              "      <td>83293380.0</td>\n",
              "      <td>98.0</td>\n",
              "      <td>808.0</td>\n",
              "    </tr>\n",
              "    <tr>\n",
              "      <th>4</th>\n",
              "      <td>5</td>\n",
              "      <td>1</td>\n",
              "      <td>33,948,454</td>\n",
              "      <td>5473565.0</td>\n",
              "      <td>96.0</td>\n",
              "      <td>736.0</td>\n",
              "    </tr>\n",
              "  </tbody>\n",
              "</table>\n",
              "</div>\n",
              "      <button class=\"colab-df-convert\" onclick=\"convertToInteractive('df-13238ba4-85a6-45c0-a265-449e13c40192')\"\n",
              "              title=\"Convert this dataframe to an interactive table.\"\n",
              "              style=\"display:none;\">\n",
              "        \n",
              "  <svg xmlns=\"http://www.w3.org/2000/svg\" height=\"24px\"viewBox=\"0 0 24 24\"\n",
              "       width=\"24px\">\n",
              "    <path d=\"M0 0h24v24H0V0z\" fill=\"none\"/>\n",
              "    <path d=\"M18.56 5.44l.94 2.06.94-2.06 2.06-.94-2.06-.94-.94-2.06-.94 2.06-2.06.94zm-11 1L8.5 8.5l.94-2.06 2.06-.94-2.06-.94L8.5 2.5l-.94 2.06-2.06.94zm10 10l.94 2.06.94-2.06 2.06-.94-2.06-.94-.94-2.06-.94 2.06-2.06.94z\"/><path d=\"M17.41 7.96l-1.37-1.37c-.4-.4-.92-.59-1.43-.59-.52 0-1.04.2-1.43.59L10.3 9.45l-7.72 7.72c-.78.78-.78 2.05 0 2.83L4 21.41c.39.39.9.59 1.41.59.51 0 1.02-.2 1.41-.59l7.78-7.78 2.81-2.81c.8-.78.8-2.07 0-2.86zM5.41 20L4 18.59l7.72-7.72 1.47 1.35L5.41 20z\"/>\n",
              "  </svg>\n",
              "      </button>\n",
              "      \n",
              "  <style>\n",
              "    .colab-df-container {\n",
              "      display:flex;\n",
              "      flex-wrap:wrap;\n",
              "      gap: 12px;\n",
              "    }\n",
              "\n",
              "    .colab-df-convert {\n",
              "      background-color: #E8F0FE;\n",
              "      border: none;\n",
              "      border-radius: 50%;\n",
              "      cursor: pointer;\n",
              "      display: none;\n",
              "      fill: #1967D2;\n",
              "      height: 32px;\n",
              "      padding: 0 0 0 0;\n",
              "      width: 32px;\n",
              "    }\n",
              "\n",
              "    .colab-df-convert:hover {\n",
              "      background-color: #E2EBFA;\n",
              "      box-shadow: 0px 1px 2px rgba(60, 64, 67, 0.3), 0px 1px 3px 1px rgba(60, 64, 67, 0.15);\n",
              "      fill: #174EA6;\n",
              "    }\n",
              "\n",
              "    [theme=dark] .colab-df-convert {\n",
              "      background-color: #3B4455;\n",
              "      fill: #D2E3FC;\n",
              "    }\n",
              "\n",
              "    [theme=dark] .colab-df-convert:hover {\n",
              "      background-color: #434B5C;\n",
              "      box-shadow: 0px 1px 3px 1px rgba(0, 0, 0, 0.15);\n",
              "      filter: drop-shadow(0px 1px 2px rgba(0, 0, 0, 0.3));\n",
              "      fill: #FFFFFF;\n",
              "    }\n",
              "  </style>\n",
              "\n",
              "      <script>\n",
              "        const buttonEl =\n",
              "          document.querySelector('#df-13238ba4-85a6-45c0-a265-449e13c40192 button.colab-df-convert');\n",
              "        buttonEl.style.display =\n",
              "          google.colab.kernel.accessAllowed ? 'block' : 'none';\n",
              "\n",
              "        async function convertToInteractive(key) {\n",
              "          const element = document.querySelector('#df-13238ba4-85a6-45c0-a265-449e13c40192');\n",
              "          const dataTable =\n",
              "            await google.colab.kernel.invokeFunction('convertToInteractive',\n",
              "                                                     [key], {});\n",
              "          if (!dataTable) return;\n",
              "\n",
              "          const docLinkHtml = 'Like what you see? Visit the ' +\n",
              "            '<a target=\"_blank\" href=https://colab.research.google.com/notebooks/data_table.ipynb>data table notebook</a>'\n",
              "            + ' to learn more about interactive tables.';\n",
              "          element.innerHTML = '';\n",
              "          dataTable['output_type'] = 'display_data';\n",
              "          await google.colab.output.renderOutput(dataTable, element);\n",
              "          const docLink = document.createElement('div');\n",
              "          docLink.innerHTML = docLinkHtml;\n",
              "          element.appendChild(docLink);\n",
              "        }\n",
              "      </script>\n",
              "    </div>\n",
              "  </div>\n",
              "  "
            ]
          },
          "metadata": {},
          "execution_count": 8
        }
      ]
    },
    {
      "cell_type": "code",
      "source": [
        "s1.describe()"
      ],
      "metadata": {
        "id": "tXY5RNCXDvsR",
        "outputId": "8558c774-3552-4617-fb92-03959570e247",
        "colab": {
          "base_uri": "https://localhost:8080/",
          "height": 300
        }
      },
      "execution_count": null,
      "outputs": [
        {
          "output_type": "execute_result",
          "data": {
            "text/plain": [
              "       Highest Charting Position  Number of Times Charted  Artist Followers  \\\n",
              "count                1556.000000              1556.000000      1.545000e+03   \n",
              "mean                   87.744216                10.668380      1.471690e+07   \n",
              "std                    58.147225                16.360546      1.667579e+07   \n",
              "min                     1.000000                 1.000000      4.883000e+03   \n",
              "25%                    37.000000                 1.000000      2.123734e+06   \n",
              "50%                    80.000000                 4.000000      6.852509e+06   \n",
              "75%                   137.000000                12.000000      2.269875e+07   \n",
              "max                   200.000000               142.000000      8.333778e+07   \n",
              "\n",
              "        Popularity  Danceability  \n",
              "count  1545.000000   1545.000000  \n",
              "mean     70.089320    623.817055  \n",
              "std      15.824034    244.317507  \n",
              "min       0.000000      0.150000  \n",
              "25%      65.000000    556.000000  \n",
              "50%      73.000000    687.000000  \n",
              "75%      80.000000    786.000000  \n",
              "max     100.000000    965.000000  "
            ],
            "text/html": [
              "\n",
              "  <div id=\"df-5858a08b-ea03-4bc7-985a-ff100b13a4d6\">\n",
              "    <div class=\"colab-df-container\">\n",
              "      <div>\n",
              "<style scoped>\n",
              "    .dataframe tbody tr th:only-of-type {\n",
              "        vertical-align: middle;\n",
              "    }\n",
              "\n",
              "    .dataframe tbody tr th {\n",
              "        vertical-align: top;\n",
              "    }\n",
              "\n",
              "    .dataframe thead th {\n",
              "        text-align: right;\n",
              "    }\n",
              "</style>\n",
              "<table border=\"1\" class=\"dataframe\">\n",
              "  <thead>\n",
              "    <tr style=\"text-align: right;\">\n",
              "      <th></th>\n",
              "      <th>Highest Charting Position</th>\n",
              "      <th>Number of Times Charted</th>\n",
              "      <th>Artist Followers</th>\n",
              "      <th>Popularity</th>\n",
              "      <th>Danceability</th>\n",
              "    </tr>\n",
              "  </thead>\n",
              "  <tbody>\n",
              "    <tr>\n",
              "      <th>count</th>\n",
              "      <td>1556.000000</td>\n",
              "      <td>1556.000000</td>\n",
              "      <td>1.545000e+03</td>\n",
              "      <td>1545.000000</td>\n",
              "      <td>1545.000000</td>\n",
              "    </tr>\n",
              "    <tr>\n",
              "      <th>mean</th>\n",
              "      <td>87.744216</td>\n",
              "      <td>10.668380</td>\n",
              "      <td>1.471690e+07</td>\n",
              "      <td>70.089320</td>\n",
              "      <td>623.817055</td>\n",
              "    </tr>\n",
              "    <tr>\n",
              "      <th>std</th>\n",
              "      <td>58.147225</td>\n",
              "      <td>16.360546</td>\n",
              "      <td>1.667579e+07</td>\n",
              "      <td>15.824034</td>\n",
              "      <td>244.317507</td>\n",
              "    </tr>\n",
              "    <tr>\n",
              "      <th>min</th>\n",
              "      <td>1.000000</td>\n",
              "      <td>1.000000</td>\n",
              "      <td>4.883000e+03</td>\n",
              "      <td>0.000000</td>\n",
              "      <td>0.150000</td>\n",
              "    </tr>\n",
              "    <tr>\n",
              "      <th>25%</th>\n",
              "      <td>37.000000</td>\n",
              "      <td>1.000000</td>\n",
              "      <td>2.123734e+06</td>\n",
              "      <td>65.000000</td>\n",
              "      <td>556.000000</td>\n",
              "    </tr>\n",
              "    <tr>\n",
              "      <th>50%</th>\n",
              "      <td>80.000000</td>\n",
              "      <td>4.000000</td>\n",
              "      <td>6.852509e+06</td>\n",
              "      <td>73.000000</td>\n",
              "      <td>687.000000</td>\n",
              "    </tr>\n",
              "    <tr>\n",
              "      <th>75%</th>\n",
              "      <td>137.000000</td>\n",
              "      <td>12.000000</td>\n",
              "      <td>2.269875e+07</td>\n",
              "      <td>80.000000</td>\n",
              "      <td>786.000000</td>\n",
              "    </tr>\n",
              "    <tr>\n",
              "      <th>max</th>\n",
              "      <td>200.000000</td>\n",
              "      <td>142.000000</td>\n",
              "      <td>8.333778e+07</td>\n",
              "      <td>100.000000</td>\n",
              "      <td>965.000000</td>\n",
              "    </tr>\n",
              "  </tbody>\n",
              "</table>\n",
              "</div>\n",
              "      <button class=\"colab-df-convert\" onclick=\"convertToInteractive('df-5858a08b-ea03-4bc7-985a-ff100b13a4d6')\"\n",
              "              title=\"Convert this dataframe to an interactive table.\"\n",
              "              style=\"display:none;\">\n",
              "        \n",
              "  <svg xmlns=\"http://www.w3.org/2000/svg\" height=\"24px\"viewBox=\"0 0 24 24\"\n",
              "       width=\"24px\">\n",
              "    <path d=\"M0 0h24v24H0V0z\" fill=\"none\"/>\n",
              "    <path d=\"M18.56 5.44l.94 2.06.94-2.06 2.06-.94-2.06-.94-.94-2.06-.94 2.06-2.06.94zm-11 1L8.5 8.5l.94-2.06 2.06-.94-2.06-.94L8.5 2.5l-.94 2.06-2.06.94zm10 10l.94 2.06.94-2.06 2.06-.94-2.06-.94-.94-2.06-.94 2.06-2.06.94z\"/><path d=\"M17.41 7.96l-1.37-1.37c-.4-.4-.92-.59-1.43-.59-.52 0-1.04.2-1.43.59L10.3 9.45l-7.72 7.72c-.78.78-.78 2.05 0 2.83L4 21.41c.39.39.9.59 1.41.59.51 0 1.02-.2 1.41-.59l7.78-7.78 2.81-2.81c.8-.78.8-2.07 0-2.86zM5.41 20L4 18.59l7.72-7.72 1.47 1.35L5.41 20z\"/>\n",
              "  </svg>\n",
              "      </button>\n",
              "      \n",
              "  <style>\n",
              "    .colab-df-container {\n",
              "      display:flex;\n",
              "      flex-wrap:wrap;\n",
              "      gap: 12px;\n",
              "    }\n",
              "\n",
              "    .colab-df-convert {\n",
              "      background-color: #E8F0FE;\n",
              "      border: none;\n",
              "      border-radius: 50%;\n",
              "      cursor: pointer;\n",
              "      display: none;\n",
              "      fill: #1967D2;\n",
              "      height: 32px;\n",
              "      padding: 0 0 0 0;\n",
              "      width: 32px;\n",
              "    }\n",
              "\n",
              "    .colab-df-convert:hover {\n",
              "      background-color: #E2EBFA;\n",
              "      box-shadow: 0px 1px 2px rgba(60, 64, 67, 0.3), 0px 1px 3px 1px rgba(60, 64, 67, 0.15);\n",
              "      fill: #174EA6;\n",
              "    }\n",
              "\n",
              "    [theme=dark] .colab-df-convert {\n",
              "      background-color: #3B4455;\n",
              "      fill: #D2E3FC;\n",
              "    }\n",
              "\n",
              "    [theme=dark] .colab-df-convert:hover {\n",
              "      background-color: #434B5C;\n",
              "      box-shadow: 0px 1px 3px 1px rgba(0, 0, 0, 0.15);\n",
              "      filter: drop-shadow(0px 1px 2px rgba(0, 0, 0, 0.3));\n",
              "      fill: #FFFFFF;\n",
              "    }\n",
              "  </style>\n",
              "\n",
              "      <script>\n",
              "        const buttonEl =\n",
              "          document.querySelector('#df-5858a08b-ea03-4bc7-985a-ff100b13a4d6 button.colab-df-convert');\n",
              "        buttonEl.style.display =\n",
              "          google.colab.kernel.accessAllowed ? 'block' : 'none';\n",
              "\n",
              "        async function convertToInteractive(key) {\n",
              "          const element = document.querySelector('#df-5858a08b-ea03-4bc7-985a-ff100b13a4d6');\n",
              "          const dataTable =\n",
              "            await google.colab.kernel.invokeFunction('convertToInteractive',\n",
              "                                                     [key], {});\n",
              "          if (!dataTable) return;\n",
              "\n",
              "          const docLinkHtml = 'Like what you see? Visit the ' +\n",
              "            '<a target=\"_blank\" href=https://colab.research.google.com/notebooks/data_table.ipynb>data table notebook</a>'\n",
              "            + ' to learn more about interactive tables.';\n",
              "          element.innerHTML = '';\n",
              "          dataTable['output_type'] = 'display_data';\n",
              "          await google.colab.output.renderOutput(dataTable, element);\n",
              "          const docLink = document.createElement('div');\n",
              "          docLink.innerHTML = docLinkHtml;\n",
              "          element.appendChild(docLink);\n",
              "        }\n",
              "      </script>\n",
              "    </div>\n",
              "  </div>\n",
              "  "
            ]
          },
          "metadata": {},
          "execution_count": 9
        }
      ]
    },
    {
      "cell_type": "markdown",
      "source": [
        "# Normalizando Dados"
      ],
      "metadata": {
        "id": "pHEaBeWV0ZAk"
      }
    },
    {
      "cell_type": "code",
      "source": [
        "s1.isnull().sum()"
      ],
      "metadata": {
        "colab": {
          "base_uri": "https://localhost:8080/"
        },
        "id": "RR_vde6B0kwK",
        "outputId": "9b3af4f6-9041-4bcf-efa7-237869c48c61"
      },
      "execution_count": null,
      "outputs": [
        {
          "output_type": "execute_result",
          "data": {
            "text/plain": [
              "Highest Charting Position     0\n",
              "Number of Times Charted       0\n",
              "Streams                       0\n",
              "Artist Followers             11\n",
              "Popularity                   11\n",
              "Danceability                 11\n",
              "dtype: int64"
            ]
          },
          "metadata": {},
          "execution_count": 8
        }
      ]
    },
    {
      "cell_type": "code",
      "source": [
        "s2 = s1.dropna()"
      ],
      "metadata": {
        "id": "zStvu_P85zI5"
      },
      "execution_count": null,
      "outputs": []
    },
    {
      "cell_type": "code",
      "source": [
        "s2.isnull().sum()"
      ],
      "metadata": {
        "colab": {
          "base_uri": "https://localhost:8080/"
        },
        "id": "tGA2SXuz6Xsn",
        "outputId": "2fb76ccc-b15b-4623-dfc2-8bd49216e1be"
      },
      "execution_count": null,
      "outputs": [
        {
          "output_type": "execute_result",
          "data": {
            "text/plain": [
              "Highest Charting Position    0\n",
              "Number of Times Charted      0\n",
              "Streams                      0\n",
              "Artist Followers             0\n",
              "Popularity                   0\n",
              "Danceability                 0\n",
              "dtype: int64"
            ]
          },
          "metadata": {},
          "execution_count": 10
        }
      ]
    },
    {
      "cell_type": "code",
      "source": [
        "s2.shape"
      ],
      "metadata": {
        "colab": {
          "base_uri": "https://localhost:8080/"
        },
        "id": "efKdmhkD6ndu",
        "outputId": "4ae69358-d8e7-47ab-8235-9ea58ca58bc8"
      },
      "execution_count": null,
      "outputs": [
        {
          "output_type": "execute_result",
          "data": {
            "text/plain": [
              "(1545, 6)"
            ]
          },
          "metadata": {},
          "execution_count": 11
        }
      ]
    },
    {
      "cell_type": "code",
      "source": [
        "s2.head()"
      ],
      "metadata": {
        "colab": {
          "base_uri": "https://localhost:8080/",
          "height": 206
        },
        "id": "pK0crU_-7d6k",
        "outputId": "79d1a9ac-c303-4d0c-bfe5-37eb993f5116"
      },
      "execution_count": null,
      "outputs": [
        {
          "output_type": "execute_result",
          "data": {
            "text/plain": [
              "   Highest Charting Position  Number of Times Charted     Streams  \\\n",
              "0                          1                        8  48,633,449   \n",
              "1                          2                        3  47,248,719   \n",
              "2                          1                       11  40,162,559   \n",
              "3                          3                        5  37,799,456   \n",
              "4                          5                        1  33,948,454   \n",
              "\n",
              "   Artist Followers  Popularity  Danceability  \n",
              "0         3377762.0       100.0         714.0  \n",
              "1         2230022.0        99.0         591.0  \n",
              "2         6266514.0        99.0         563.0  \n",
              "3        83293380.0        98.0         808.0  \n",
              "4         5473565.0        96.0         736.0  "
            ],
            "text/html": [
              "\n",
              "  <div id=\"df-4dbd4bed-fbca-45b9-9fbd-964de7bc8613\">\n",
              "    <div class=\"colab-df-container\">\n",
              "      <div>\n",
              "<style scoped>\n",
              "    .dataframe tbody tr th:only-of-type {\n",
              "        vertical-align: middle;\n",
              "    }\n",
              "\n",
              "    .dataframe tbody tr th {\n",
              "        vertical-align: top;\n",
              "    }\n",
              "\n",
              "    .dataframe thead th {\n",
              "        text-align: right;\n",
              "    }\n",
              "</style>\n",
              "<table border=\"1\" class=\"dataframe\">\n",
              "  <thead>\n",
              "    <tr style=\"text-align: right;\">\n",
              "      <th></th>\n",
              "      <th>Highest Charting Position</th>\n",
              "      <th>Number of Times Charted</th>\n",
              "      <th>Streams</th>\n",
              "      <th>Artist Followers</th>\n",
              "      <th>Popularity</th>\n",
              "      <th>Danceability</th>\n",
              "    </tr>\n",
              "  </thead>\n",
              "  <tbody>\n",
              "    <tr>\n",
              "      <th>0</th>\n",
              "      <td>1</td>\n",
              "      <td>8</td>\n",
              "      <td>48,633,449</td>\n",
              "      <td>3377762.0</td>\n",
              "      <td>100.0</td>\n",
              "      <td>714.0</td>\n",
              "    </tr>\n",
              "    <tr>\n",
              "      <th>1</th>\n",
              "      <td>2</td>\n",
              "      <td>3</td>\n",
              "      <td>47,248,719</td>\n",
              "      <td>2230022.0</td>\n",
              "      <td>99.0</td>\n",
              "      <td>591.0</td>\n",
              "    </tr>\n",
              "    <tr>\n",
              "      <th>2</th>\n",
              "      <td>1</td>\n",
              "      <td>11</td>\n",
              "      <td>40,162,559</td>\n",
              "      <td>6266514.0</td>\n",
              "      <td>99.0</td>\n",
              "      <td>563.0</td>\n",
              "    </tr>\n",
              "    <tr>\n",
              "      <th>3</th>\n",
              "      <td>3</td>\n",
              "      <td>5</td>\n",
              "      <td>37,799,456</td>\n",
              "      <td>83293380.0</td>\n",
              "      <td>98.0</td>\n",
              "      <td>808.0</td>\n",
              "    </tr>\n",
              "    <tr>\n",
              "      <th>4</th>\n",
              "      <td>5</td>\n",
              "      <td>1</td>\n",
              "      <td>33,948,454</td>\n",
              "      <td>5473565.0</td>\n",
              "      <td>96.0</td>\n",
              "      <td>736.0</td>\n",
              "    </tr>\n",
              "  </tbody>\n",
              "</table>\n",
              "</div>\n",
              "      <button class=\"colab-df-convert\" onclick=\"convertToInteractive('df-4dbd4bed-fbca-45b9-9fbd-964de7bc8613')\"\n",
              "              title=\"Convert this dataframe to an interactive table.\"\n",
              "              style=\"display:none;\">\n",
              "        \n",
              "  <svg xmlns=\"http://www.w3.org/2000/svg\" height=\"24px\"viewBox=\"0 0 24 24\"\n",
              "       width=\"24px\">\n",
              "    <path d=\"M0 0h24v24H0V0z\" fill=\"none\"/>\n",
              "    <path d=\"M18.56 5.44l.94 2.06.94-2.06 2.06-.94-2.06-.94-.94-2.06-.94 2.06-2.06.94zm-11 1L8.5 8.5l.94-2.06 2.06-.94-2.06-.94L8.5 2.5l-.94 2.06-2.06.94zm10 10l.94 2.06.94-2.06 2.06-.94-2.06-.94-.94-2.06-.94 2.06-2.06.94z\"/><path d=\"M17.41 7.96l-1.37-1.37c-.4-.4-.92-.59-1.43-.59-.52 0-1.04.2-1.43.59L10.3 9.45l-7.72 7.72c-.78.78-.78 2.05 0 2.83L4 21.41c.39.39.9.59 1.41.59.51 0 1.02-.2 1.41-.59l7.78-7.78 2.81-2.81c.8-.78.8-2.07 0-2.86zM5.41 20L4 18.59l7.72-7.72 1.47 1.35L5.41 20z\"/>\n",
              "  </svg>\n",
              "      </button>\n",
              "      \n",
              "  <style>\n",
              "    .colab-df-container {\n",
              "      display:flex;\n",
              "      flex-wrap:wrap;\n",
              "      gap: 12px;\n",
              "    }\n",
              "\n",
              "    .colab-df-convert {\n",
              "      background-color: #E8F0FE;\n",
              "      border: none;\n",
              "      border-radius: 50%;\n",
              "      cursor: pointer;\n",
              "      display: none;\n",
              "      fill: #1967D2;\n",
              "      height: 32px;\n",
              "      padding: 0 0 0 0;\n",
              "      width: 32px;\n",
              "    }\n",
              "\n",
              "    .colab-df-convert:hover {\n",
              "      background-color: #E2EBFA;\n",
              "      box-shadow: 0px 1px 2px rgba(60, 64, 67, 0.3), 0px 1px 3px 1px rgba(60, 64, 67, 0.15);\n",
              "      fill: #174EA6;\n",
              "    }\n",
              "\n",
              "    [theme=dark] .colab-df-convert {\n",
              "      background-color: #3B4455;\n",
              "      fill: #D2E3FC;\n",
              "    }\n",
              "\n",
              "    [theme=dark] .colab-df-convert:hover {\n",
              "      background-color: #434B5C;\n",
              "      box-shadow: 0px 1px 3px 1px rgba(0, 0, 0, 0.15);\n",
              "      filter: drop-shadow(0px 1px 2px rgba(0, 0, 0, 0.3));\n",
              "      fill: #FFFFFF;\n",
              "    }\n",
              "  </style>\n",
              "\n",
              "      <script>\n",
              "        const buttonEl =\n",
              "          document.querySelector('#df-4dbd4bed-fbca-45b9-9fbd-964de7bc8613 button.colab-df-convert');\n",
              "        buttonEl.style.display =\n",
              "          google.colab.kernel.accessAllowed ? 'block' : 'none';\n",
              "\n",
              "        async function convertToInteractive(key) {\n",
              "          const element = document.querySelector('#df-4dbd4bed-fbca-45b9-9fbd-964de7bc8613');\n",
              "          const dataTable =\n",
              "            await google.colab.kernel.invokeFunction('convertToInteractive',\n",
              "                                                     [key], {});\n",
              "          if (!dataTable) return;\n",
              "\n",
              "          const docLinkHtml = 'Like what you see? Visit the ' +\n",
              "            '<a target=\"_blank\" href=https://colab.research.google.com/notebooks/data_table.ipynb>data table notebook</a>'\n",
              "            + ' to learn more about interactive tables.';\n",
              "          element.innerHTML = '';\n",
              "          dataTable['output_type'] = 'display_data';\n",
              "          await google.colab.output.renderOutput(dataTable, element);\n",
              "          const docLink = document.createElement('div');\n",
              "          docLink.innerHTML = docLinkHtml;\n",
              "          element.appendChild(docLink);\n",
              "        }\n",
              "      </script>\n",
              "    </div>\n",
              "  </div>\n",
              "  "
            ]
          },
          "metadata": {},
          "execution_count": 12
        }
      ]
    },
    {
      "cell_type": "code",
      "source": [
        "s2.dtypes"
      ],
      "metadata": {
        "colab": {
          "base_uri": "https://localhost:8080/"
        },
        "id": "_XAdgRbyLy1l",
        "outputId": "6b7143c4-9547-42e7-fa1e-41f10bac43b7"
      },
      "execution_count": null,
      "outputs": [
        {
          "output_type": "execute_result",
          "data": {
            "text/plain": [
              "Highest Charting Position      int64\n",
              "Number of Times Charted        int64\n",
              "Streams                       object\n",
              "Artist Followers             float64\n",
              "Popularity                   float64\n",
              "Danceability                 float64\n",
              "dtype: object"
            ]
          },
          "metadata": {},
          "execution_count": 13
        }
      ]
    },
    {
      "cell_type": "code",
      "source": [
        "num = []\n",
        "for x in s2['Streams']:\n",
        "  num.append(int(x.replace(\",\",\"\")))\n",
        "streams = pd.DataFrame(num)\n",
        "streams = streams.rename(columns = {0 : 'Streams'})\n",
        "print(streams)"
      ],
      "metadata": {
        "colab": {
          "base_uri": "https://localhost:8080/"
        },
        "id": "9yXeAH-KKFpU",
        "outputId": "e1000580-0cf4-4f4b-fda5-fd24185ee6ba"
      },
      "execution_count": null,
      "outputs": [
        {
          "output_type": "stream",
          "name": "stdout",
          "text": [
            "       Streams\n",
            "0     48633449\n",
            "1     47248719\n",
            "2     40162559\n",
            "3     37799456\n",
            "4     33948454\n",
            "...        ...\n",
            "1540   4630675\n",
            "1541   4623030\n",
            "1542   4620876\n",
            "1543   4607385\n",
            "1544   4595450\n",
            "\n",
            "[1545 rows x 1 columns]\n"
          ]
        }
      ]
    },
    {
      "cell_type": "code",
      "source": [
        "pop = []\n",
        "for x in s2['Popularity']:\n",
        "  if(x <= 49):\n",
        "    x = 0\n",
        "  elif(x <= 84):\n",
        "    x = 1\n",
        "  else:\n",
        "    x = 2\n",
        "  pop.append(x)\n",
        "popular = pd.DataFrame(pop)\n",
        "popular = popular.rename(columns = {0 : 'Popularity'})\n",
        "print(popular)"
      ],
      "metadata": {
        "colab": {
          "base_uri": "https://localhost:8080/"
        },
        "id": "x5PRFpPvd3TE",
        "outputId": "224a05a8-600d-4cbc-a8b4-08348fded2cb"
      },
      "execution_count": null,
      "outputs": [
        {
          "output_type": "stream",
          "name": "stdout",
          "text": [
            "      Popularity\n",
            "0              2\n",
            "1              2\n",
            "2              2\n",
            "3              2\n",
            "4              2\n",
            "...          ...\n",
            "1540           1\n",
            "1541           1\n",
            "1542           1\n",
            "1543           1\n",
            "1544           1\n",
            "\n",
            "[1545 rows x 1 columns]\n"
          ]
        }
      ]
    },
    {
      "cell_type": "code",
      "source": [
        "dance = []\n",
        "for x in s2['Danceability']:\n",
        "  if (x > 1):\n",
        "    x = x/1000\n",
        "  dance.append(x)\n",
        "danca = pd.DataFrame(dance)\n",
        "danca = danca.rename(columns = {0 : 'Danceability'})\n",
        "print(danca)"
      ],
      "metadata": {
        "colab": {
          "base_uri": "https://localhost:8080/"
        },
        "id": "u7QPwFjoYLEl",
        "outputId": "1519ebd1-c770-420e-c9b1-c3d8b95cf22b"
      },
      "execution_count": null,
      "outputs": [
        {
          "output_type": "stream",
          "name": "stdout",
          "text": [
            "      Danceability\n",
            "0            0.714\n",
            "1            0.591\n",
            "2            0.563\n",
            "3            0.808\n",
            "4            0.736\n",
            "...            ...\n",
            "1540         0.762\n",
            "1541         0.528\n",
            "1542         0.765\n",
            "1543         0.832\n",
            "1544         0.448\n",
            "\n",
            "[1545 rows x 1 columns]\n"
          ]
        }
      ]
    },
    {
      "cell_type": "code",
      "source": [
        "s2.drop(['Streams', 'Popularity', 'Danceability'], axis = 1, inplace = True)"
      ],
      "metadata": {
        "id": "zaFxV2FXaFSZ"
      },
      "execution_count": null,
      "outputs": []
    },
    {
      "cell_type": "code",
      "source": [
        "s2 = pd.concat([s2,streams], axis = 1)\n",
        "s2 = pd.concat([s2,popular], axis = 1)\n",
        "s2 = pd.concat([s2,danca], axis = 1)"
      ],
      "metadata": {
        "id": "J5PsMvmEbHNS"
      },
      "execution_count": null,
      "outputs": []
    },
    {
      "cell_type": "code",
      "source": [
        "s2.columns"
      ],
      "metadata": {
        "colab": {
          "base_uri": "https://localhost:8080/"
        },
        "id": "2gtsI7dBbBxI",
        "outputId": "2fc2a4da-fd7b-4f36-d223-212d67b57995"
      },
      "execution_count": null,
      "outputs": [
        {
          "output_type": "execute_result",
          "data": {
            "text/plain": [
              "Index(['Highest Charting Position', 'Number of Times Charted',\n",
              "       'Artist Followers', 'Streams', 'Popularity', 'Danceability'],\n",
              "      dtype='object')"
            ]
          },
          "metadata": {},
          "execution_count": 21
        }
      ]
    },
    {
      "cell_type": "code",
      "source": [
        "s2.head()"
      ],
      "metadata": {
        "colab": {
          "base_uri": "https://localhost:8080/",
          "height": 206
        },
        "id": "43f-X3QDcI6m",
        "outputId": "2cad27c8-e4c6-4912-cef2-75a187d47492"
      },
      "execution_count": null,
      "outputs": [
        {
          "output_type": "execute_result",
          "data": {
            "text/plain": [
              "   Highest Charting Position  Number of Times Charted  Artist Followers  \\\n",
              "0                        1.0                      8.0         3377762.0   \n",
              "1                        2.0                      3.0         2230022.0   \n",
              "2                        1.0                     11.0         6266514.0   \n",
              "3                        3.0                      5.0        83293380.0   \n",
              "4                        5.0                      1.0         5473565.0   \n",
              "\n",
              "      Streams  Popularity  Danceability  \n",
              "0  48633449.0         2.0         0.714  \n",
              "1  47248719.0         2.0         0.591  \n",
              "2  40162559.0         2.0         0.563  \n",
              "3  37799456.0         2.0         0.808  \n",
              "4  33948454.0         2.0         0.736  "
            ],
            "text/html": [
              "\n",
              "  <div id=\"df-3a1c2f36-8f49-4807-be19-392b6d780e7c\">\n",
              "    <div class=\"colab-df-container\">\n",
              "      <div>\n",
              "<style scoped>\n",
              "    .dataframe tbody tr th:only-of-type {\n",
              "        vertical-align: middle;\n",
              "    }\n",
              "\n",
              "    .dataframe tbody tr th {\n",
              "        vertical-align: top;\n",
              "    }\n",
              "\n",
              "    .dataframe thead th {\n",
              "        text-align: right;\n",
              "    }\n",
              "</style>\n",
              "<table border=\"1\" class=\"dataframe\">\n",
              "  <thead>\n",
              "    <tr style=\"text-align: right;\">\n",
              "      <th></th>\n",
              "      <th>Highest Charting Position</th>\n",
              "      <th>Number of Times Charted</th>\n",
              "      <th>Artist Followers</th>\n",
              "      <th>Streams</th>\n",
              "      <th>Popularity</th>\n",
              "      <th>Danceability</th>\n",
              "    </tr>\n",
              "  </thead>\n",
              "  <tbody>\n",
              "    <tr>\n",
              "      <th>0</th>\n",
              "      <td>1.0</td>\n",
              "      <td>8.0</td>\n",
              "      <td>3377762.0</td>\n",
              "      <td>48633449.0</td>\n",
              "      <td>2.0</td>\n",
              "      <td>0.714</td>\n",
              "    </tr>\n",
              "    <tr>\n",
              "      <th>1</th>\n",
              "      <td>2.0</td>\n",
              "      <td>3.0</td>\n",
              "      <td>2230022.0</td>\n",
              "      <td>47248719.0</td>\n",
              "      <td>2.0</td>\n",
              "      <td>0.591</td>\n",
              "    </tr>\n",
              "    <tr>\n",
              "      <th>2</th>\n",
              "      <td>1.0</td>\n",
              "      <td>11.0</td>\n",
              "      <td>6266514.0</td>\n",
              "      <td>40162559.0</td>\n",
              "      <td>2.0</td>\n",
              "      <td>0.563</td>\n",
              "    </tr>\n",
              "    <tr>\n",
              "      <th>3</th>\n",
              "      <td>3.0</td>\n",
              "      <td>5.0</td>\n",
              "      <td>83293380.0</td>\n",
              "      <td>37799456.0</td>\n",
              "      <td>2.0</td>\n",
              "      <td>0.808</td>\n",
              "    </tr>\n",
              "    <tr>\n",
              "      <th>4</th>\n",
              "      <td>5.0</td>\n",
              "      <td>1.0</td>\n",
              "      <td>5473565.0</td>\n",
              "      <td>33948454.0</td>\n",
              "      <td>2.0</td>\n",
              "      <td>0.736</td>\n",
              "    </tr>\n",
              "  </tbody>\n",
              "</table>\n",
              "</div>\n",
              "      <button class=\"colab-df-convert\" onclick=\"convertToInteractive('df-3a1c2f36-8f49-4807-be19-392b6d780e7c')\"\n",
              "              title=\"Convert this dataframe to an interactive table.\"\n",
              "              style=\"display:none;\">\n",
              "        \n",
              "  <svg xmlns=\"http://www.w3.org/2000/svg\" height=\"24px\"viewBox=\"0 0 24 24\"\n",
              "       width=\"24px\">\n",
              "    <path d=\"M0 0h24v24H0V0z\" fill=\"none\"/>\n",
              "    <path d=\"M18.56 5.44l.94 2.06.94-2.06 2.06-.94-2.06-.94-.94-2.06-.94 2.06-2.06.94zm-11 1L8.5 8.5l.94-2.06 2.06-.94-2.06-.94L8.5 2.5l-.94 2.06-2.06.94zm10 10l.94 2.06.94-2.06 2.06-.94-2.06-.94-.94-2.06-.94 2.06-2.06.94z\"/><path d=\"M17.41 7.96l-1.37-1.37c-.4-.4-.92-.59-1.43-.59-.52 0-1.04.2-1.43.59L10.3 9.45l-7.72 7.72c-.78.78-.78 2.05 0 2.83L4 21.41c.39.39.9.59 1.41.59.51 0 1.02-.2 1.41-.59l7.78-7.78 2.81-2.81c.8-.78.8-2.07 0-2.86zM5.41 20L4 18.59l7.72-7.72 1.47 1.35L5.41 20z\"/>\n",
              "  </svg>\n",
              "      </button>\n",
              "      \n",
              "  <style>\n",
              "    .colab-df-container {\n",
              "      display:flex;\n",
              "      flex-wrap:wrap;\n",
              "      gap: 12px;\n",
              "    }\n",
              "\n",
              "    .colab-df-convert {\n",
              "      background-color: #E8F0FE;\n",
              "      border: none;\n",
              "      border-radius: 50%;\n",
              "      cursor: pointer;\n",
              "      display: none;\n",
              "      fill: #1967D2;\n",
              "      height: 32px;\n",
              "      padding: 0 0 0 0;\n",
              "      width: 32px;\n",
              "    }\n",
              "\n",
              "    .colab-df-convert:hover {\n",
              "      background-color: #E2EBFA;\n",
              "      box-shadow: 0px 1px 2px rgba(60, 64, 67, 0.3), 0px 1px 3px 1px rgba(60, 64, 67, 0.15);\n",
              "      fill: #174EA6;\n",
              "    }\n",
              "\n",
              "    [theme=dark] .colab-df-convert {\n",
              "      background-color: #3B4455;\n",
              "      fill: #D2E3FC;\n",
              "    }\n",
              "\n",
              "    [theme=dark] .colab-df-convert:hover {\n",
              "      background-color: #434B5C;\n",
              "      box-shadow: 0px 1px 3px 1px rgba(0, 0, 0, 0.15);\n",
              "      filter: drop-shadow(0px 1px 2px rgba(0, 0, 0, 0.3));\n",
              "      fill: #FFFFFF;\n",
              "    }\n",
              "  </style>\n",
              "\n",
              "      <script>\n",
              "        const buttonEl =\n",
              "          document.querySelector('#df-3a1c2f36-8f49-4807-be19-392b6d780e7c button.colab-df-convert');\n",
              "        buttonEl.style.display =\n",
              "          google.colab.kernel.accessAllowed ? 'block' : 'none';\n",
              "\n",
              "        async function convertToInteractive(key) {\n",
              "          const element = document.querySelector('#df-3a1c2f36-8f49-4807-be19-392b6d780e7c');\n",
              "          const dataTable =\n",
              "            await google.colab.kernel.invokeFunction('convertToInteractive',\n",
              "                                                     [key], {});\n",
              "          if (!dataTable) return;\n",
              "\n",
              "          const docLinkHtml = 'Like what you see? Visit the ' +\n",
              "            '<a target=\"_blank\" href=https://colab.research.google.com/notebooks/data_table.ipynb>data table notebook</a>'\n",
              "            + ' to learn more about interactive tables.';\n",
              "          element.innerHTML = '';\n",
              "          dataTable['output_type'] = 'display_data';\n",
              "          await google.colab.output.renderOutput(dataTable, element);\n",
              "          const docLink = document.createElement('div');\n",
              "          docLink.innerHTML = docLinkHtml;\n",
              "          element.appendChild(docLink);\n",
              "        }\n",
              "      </script>\n",
              "    </div>\n",
              "  </div>\n",
              "  "
            ]
          },
          "metadata": {},
          "execution_count": 19
        }
      ]
    },
    {
      "cell_type": "code",
      "source": [
        "s2.dtypes"
      ],
      "metadata": {
        "colab": {
          "base_uri": "https://localhost:8080/"
        },
        "id": "v_EozjqedtL2",
        "outputId": "9b6fe91b-6ae4-4bca-9c75-789f401b69cc"
      },
      "execution_count": null,
      "outputs": [
        {
          "output_type": "execute_result",
          "data": {
            "text/plain": [
              "Highest Charting Position    float64\n",
              "Number of Times Charted      float64\n",
              "Artist Followers             float64\n",
              "Streams                      float64\n",
              "Popularity                   float64\n",
              "Danceability                 float64\n",
              "dtype: object"
            ]
          },
          "metadata": {},
          "execution_count": 23
        }
      ]
    },
    {
      "cell_type": "code",
      "source": [
        "s2.describe()"
      ],
      "metadata": {
        "colab": {
          "base_uri": "https://localhost:8080/",
          "height": 300
        },
        "id": "8bcBBEP9SRYx",
        "outputId": "6a272625-4c84-4548-8ea9-d15ebeaa2de8"
      },
      "execution_count": null,
      "outputs": [
        {
          "output_type": "execute_result",
          "data": {
            "text/plain": [
              "       Highest Charting Position  Number of Times Charted  Artist Followers  \\\n",
              "count                1545.000000              1545.000000      1.545000e+03   \n",
              "mean                   87.825243                10.684142      1.471690e+07   \n",
              "std                    58.132046                16.389761      1.667579e+07   \n",
              "min                     1.000000                 1.000000      4.883000e+03   \n",
              "25%                    37.000000                 1.000000      2.123734e+06   \n",
              "50%                    80.000000                 4.000000      6.852509e+06   \n",
              "75%                   137.000000                12.000000      2.269875e+07   \n",
              "max                   200.000000               142.000000      8.333778e+07   \n",
              "\n",
              "            Streams   Popularity  Danceability  \n",
              "count  1.545000e+03  1545.000000   1545.000000  \n",
              "mean   6.337136e+06     1.025243      0.689997  \n",
              "std    3.375402e+06     0.375768      0.142444  \n",
              "min    4.176083e+06     0.000000      0.150000  \n",
              "25%    4.915080e+06     1.000000      0.599000  \n",
              "50%    5.269163e+06     1.000000      0.707000  \n",
              "75%    6.452492e+06     1.000000      0.796000  \n",
              "max    4.863345e+07     2.000000      0.980000  "
            ],
            "text/html": [
              "\n",
              "  <div id=\"df-9e3021e8-9eff-4591-881c-8befde132393\">\n",
              "    <div class=\"colab-df-container\">\n",
              "      <div>\n",
              "<style scoped>\n",
              "    .dataframe tbody tr th:only-of-type {\n",
              "        vertical-align: middle;\n",
              "    }\n",
              "\n",
              "    .dataframe tbody tr th {\n",
              "        vertical-align: top;\n",
              "    }\n",
              "\n",
              "    .dataframe thead th {\n",
              "        text-align: right;\n",
              "    }\n",
              "</style>\n",
              "<table border=\"1\" class=\"dataframe\">\n",
              "  <thead>\n",
              "    <tr style=\"text-align: right;\">\n",
              "      <th></th>\n",
              "      <th>Highest Charting Position</th>\n",
              "      <th>Number of Times Charted</th>\n",
              "      <th>Artist Followers</th>\n",
              "      <th>Streams</th>\n",
              "      <th>Popularity</th>\n",
              "      <th>Danceability</th>\n",
              "    </tr>\n",
              "  </thead>\n",
              "  <tbody>\n",
              "    <tr>\n",
              "      <th>count</th>\n",
              "      <td>1545.000000</td>\n",
              "      <td>1545.000000</td>\n",
              "      <td>1.545000e+03</td>\n",
              "      <td>1.545000e+03</td>\n",
              "      <td>1545.000000</td>\n",
              "      <td>1545.000000</td>\n",
              "    </tr>\n",
              "    <tr>\n",
              "      <th>mean</th>\n",
              "      <td>87.825243</td>\n",
              "      <td>10.684142</td>\n",
              "      <td>1.471690e+07</td>\n",
              "      <td>6.337136e+06</td>\n",
              "      <td>1.025243</td>\n",
              "      <td>0.689997</td>\n",
              "    </tr>\n",
              "    <tr>\n",
              "      <th>std</th>\n",
              "      <td>58.132046</td>\n",
              "      <td>16.389761</td>\n",
              "      <td>1.667579e+07</td>\n",
              "      <td>3.375402e+06</td>\n",
              "      <td>0.375768</td>\n",
              "      <td>0.142444</td>\n",
              "    </tr>\n",
              "    <tr>\n",
              "      <th>min</th>\n",
              "      <td>1.000000</td>\n",
              "      <td>1.000000</td>\n",
              "      <td>4.883000e+03</td>\n",
              "      <td>4.176083e+06</td>\n",
              "      <td>0.000000</td>\n",
              "      <td>0.150000</td>\n",
              "    </tr>\n",
              "    <tr>\n",
              "      <th>25%</th>\n",
              "      <td>37.000000</td>\n",
              "      <td>1.000000</td>\n",
              "      <td>2.123734e+06</td>\n",
              "      <td>4.915080e+06</td>\n",
              "      <td>1.000000</td>\n",
              "      <td>0.599000</td>\n",
              "    </tr>\n",
              "    <tr>\n",
              "      <th>50%</th>\n",
              "      <td>80.000000</td>\n",
              "      <td>4.000000</td>\n",
              "      <td>6.852509e+06</td>\n",
              "      <td>5.269163e+06</td>\n",
              "      <td>1.000000</td>\n",
              "      <td>0.707000</td>\n",
              "    </tr>\n",
              "    <tr>\n",
              "      <th>75%</th>\n",
              "      <td>137.000000</td>\n",
              "      <td>12.000000</td>\n",
              "      <td>2.269875e+07</td>\n",
              "      <td>6.452492e+06</td>\n",
              "      <td>1.000000</td>\n",
              "      <td>0.796000</td>\n",
              "    </tr>\n",
              "    <tr>\n",
              "      <th>max</th>\n",
              "      <td>200.000000</td>\n",
              "      <td>142.000000</td>\n",
              "      <td>8.333778e+07</td>\n",
              "      <td>4.863345e+07</td>\n",
              "      <td>2.000000</td>\n",
              "      <td>0.980000</td>\n",
              "    </tr>\n",
              "  </tbody>\n",
              "</table>\n",
              "</div>\n",
              "      <button class=\"colab-df-convert\" onclick=\"convertToInteractive('df-9e3021e8-9eff-4591-881c-8befde132393')\"\n",
              "              title=\"Convert this dataframe to an interactive table.\"\n",
              "              style=\"display:none;\">\n",
              "        \n",
              "  <svg xmlns=\"http://www.w3.org/2000/svg\" height=\"24px\"viewBox=\"0 0 24 24\"\n",
              "       width=\"24px\">\n",
              "    <path d=\"M0 0h24v24H0V0z\" fill=\"none\"/>\n",
              "    <path d=\"M18.56 5.44l.94 2.06.94-2.06 2.06-.94-2.06-.94-.94-2.06-.94 2.06-2.06.94zm-11 1L8.5 8.5l.94-2.06 2.06-.94-2.06-.94L8.5 2.5l-.94 2.06-2.06.94zm10 10l.94 2.06.94-2.06 2.06-.94-2.06-.94-.94-2.06-.94 2.06-2.06.94z\"/><path d=\"M17.41 7.96l-1.37-1.37c-.4-.4-.92-.59-1.43-.59-.52 0-1.04.2-1.43.59L10.3 9.45l-7.72 7.72c-.78.78-.78 2.05 0 2.83L4 21.41c.39.39.9.59 1.41.59.51 0 1.02-.2 1.41-.59l7.78-7.78 2.81-2.81c.8-.78.8-2.07 0-2.86zM5.41 20L4 18.59l7.72-7.72 1.47 1.35L5.41 20z\"/>\n",
              "  </svg>\n",
              "      </button>\n",
              "      \n",
              "  <style>\n",
              "    .colab-df-container {\n",
              "      display:flex;\n",
              "      flex-wrap:wrap;\n",
              "      gap: 12px;\n",
              "    }\n",
              "\n",
              "    .colab-df-convert {\n",
              "      background-color: #E8F0FE;\n",
              "      border: none;\n",
              "      border-radius: 50%;\n",
              "      cursor: pointer;\n",
              "      display: none;\n",
              "      fill: #1967D2;\n",
              "      height: 32px;\n",
              "      padding: 0 0 0 0;\n",
              "      width: 32px;\n",
              "    }\n",
              "\n",
              "    .colab-df-convert:hover {\n",
              "      background-color: #E2EBFA;\n",
              "      box-shadow: 0px 1px 2px rgba(60, 64, 67, 0.3), 0px 1px 3px 1px rgba(60, 64, 67, 0.15);\n",
              "      fill: #174EA6;\n",
              "    }\n",
              "\n",
              "    [theme=dark] .colab-df-convert {\n",
              "      background-color: #3B4455;\n",
              "      fill: #D2E3FC;\n",
              "    }\n",
              "\n",
              "    [theme=dark] .colab-df-convert:hover {\n",
              "      background-color: #434B5C;\n",
              "      box-shadow: 0px 1px 3px 1px rgba(0, 0, 0, 0.15);\n",
              "      filter: drop-shadow(0px 1px 2px rgba(0, 0, 0, 0.3));\n",
              "      fill: #FFFFFF;\n",
              "    }\n",
              "  </style>\n",
              "\n",
              "      <script>\n",
              "        const buttonEl =\n",
              "          document.querySelector('#df-9e3021e8-9eff-4591-881c-8befde132393 button.colab-df-convert');\n",
              "        buttonEl.style.display =\n",
              "          google.colab.kernel.accessAllowed ? 'block' : 'none';\n",
              "\n",
              "        async function convertToInteractive(key) {\n",
              "          const element = document.querySelector('#df-9e3021e8-9eff-4591-881c-8befde132393');\n",
              "          const dataTable =\n",
              "            await google.colab.kernel.invokeFunction('convertToInteractive',\n",
              "                                                     [key], {});\n",
              "          if (!dataTable) return;\n",
              "\n",
              "          const docLinkHtml = 'Like what you see? Visit the ' +\n",
              "            '<a target=\"_blank\" href=https://colab.research.google.com/notebooks/data_table.ipynb>data table notebook</a>'\n",
              "            + ' to learn more about interactive tables.';\n",
              "          element.innerHTML = '';\n",
              "          dataTable['output_type'] = 'display_data';\n",
              "          await google.colab.output.renderOutput(dataTable, element);\n",
              "          const docLink = document.createElement('div');\n",
              "          docLink.innerHTML = docLinkHtml;\n",
              "          element.appendChild(docLink);\n",
              "        }\n",
              "      </script>\n",
              "    </div>\n",
              "  </div>\n",
              "  "
            ]
          },
          "metadata": {},
          "execution_count": 24
        }
      ]
    },
    {
      "cell_type": "code",
      "source": [
        "s2 = s2.dropna()"
      ],
      "metadata": {
        "id": "vjo7wK2_aRds"
      },
      "execution_count": null,
      "outputs": []
    },
    {
      "cell_type": "markdown",
      "source": [
        "#Dummy Classifier\n"
      ],
      "metadata": {
        "id": "TmVjuNsWDoAm"
      }
    },
    {
      "cell_type": "code",
      "source": [
        "#Definindo variáveis preditoras(x) e a variável target(y)\n",
        "x = s2[['Highest Charting Position', 'Number of Times Charted', 'Artist Followers', 'Streams', 'Danceability']]\n",
        "y = s2['Popularity']\n",
        "\n",
        "#Definindo uma seed\n",
        "SEED = 10\n",
        "np.random.seed(SEED)\n",
        "\n",
        "#Facilitando a criacao de variaveis pra teste e treino\n",
        "treino_x, teste_x, treino_y, teste_y = train_test_split (x, y, random_state = SEED, stratify = y, test_size= 0.25)\n",
        "print(\"Treinaremos com %d elementos e testaremos com %d elementos.\" % (len(treino_x), (len(teste_x))))\n"
      ],
      "metadata": {
        "colab": {
          "base_uri": "https://localhost:8080/"
        },
        "id": "boYQgs7YJVTM",
        "outputId": "d4f8bcb4-12a4-44ec-8b81-6196a51b3701"
      },
      "execution_count": null,
      "outputs": [
        {
          "output_type": "stream",
          "name": "stdout",
          "text": [
            "Treinaremos com 1150 elementos e testaremos com 384 elementos.\n"
          ]
        }
      ]
    },
    {
      "cell_type": "code",
      "source": [
        "#Aqui usaremos o classificador Dummy para nossa base line, devemos usar algum classificador que alcance uma acurácia maior que essa\n",
        "dummy_mostfrequent = DummyClassifier(strategy='most_frequent')\n",
        "dummy_mostfrequent.fit(treino_x, treino_y)\n",
        "acuracia = dummy_mostfrequent.score(teste_x, teste_y) * 100\n",
        "print(\"A acurácia do dummy most frequent foi %.2f%%\" % acuracia)"
      ],
      "metadata": {
        "colab": {
          "base_uri": "https://localhost:8080/"
        },
        "id": "rLpety-pDqWg",
        "outputId": "37252e6e-af04-442d-9b92-134856a29ddf"
      },
      "execution_count": null,
      "outputs": [
        {
          "output_type": "stream",
          "name": "stdout",
          "text": [
            "A acurácia do dummy most frequent foi 85.94%\n"
          ]
        }
      ]
    },
    {
      "cell_type": "markdown",
      "source": [
        "# Árvore de Decisão"
      ],
      "metadata": {
        "id": "H4DIeklHUg1A"
      }
    },
    {
      "cell_type": "code",
      "source": [
        "from sklearn import tree\n",
        "from sklearn.model_selection import train_test_split\n",
        "from sklearn.metrics import accuracy_score\n",
        "var_ind = s2[['Highest Charting Position', 'Number of Times Charted', 'Artist Followers', 'Streams', 'Danceability']]\n",
        "target = s2['Popularity']\n",
        "\n",
        "SEED = 15\n",
        "np.random.seed(SEED)\n",
        "\n",
        "X_train, X_test, y_train, y_test = train_test_split(var_ind, target, random_state = SEED, test_size=0.25)"
      ],
      "metadata": {
        "id": "v90vZOQYUwM4"
      },
      "execution_count": null,
      "outputs": []
    },
    {
      "cell_type": "code",
      "source": [
        "modArv = tree.DecisionTreeClassifier(criterion='entropy', max_depth=3)\n",
        "modArv = modArv.fit(X_train, y_train)\n",
        "predictions = modArv.predict(X_test)\n",
        "print(\"Treinaremos com %d elementos e testaremos com %d elementos.\" % (len(X_train), (len(X_test))))\n",
        "acuracia = accuracy_score(y_test, predictions) * 100\n",
        "print(\"A acuracia da nossa árvore de decisão foi %.2f%%\" % acuracia)"
      ],
      "metadata": {
        "id": "Ku-4fyGfcHMt",
        "colab": {
          "base_uri": "https://localhost:8080/"
        },
        "outputId": "8a02a872-dd8d-4892-aced-8ae6c95c0992"
      },
      "execution_count": null,
      "outputs": [
        {
          "output_type": "stream",
          "name": "stdout",
          "text": [
            "Treinaremos com 1150 elementos e testaremos com 384 elementos.\n",
            "A acuracia da nossa árvore de decisão foi 88.28%\n"
          ]
        }
      ]
    },
    {
      "cell_type": "code",
      "source": [
        "print(\"\\nMatriz de confusão detalhada da Árvore de Decisão:\\n\",\n",
        "pd.crosstab(y_test, predictions, rownames=['Real'], colnames=\n",
        "['Predito'],\n",
        "margins=True, margins_name='Todos'))"
      ],
      "metadata": {
        "colab": {
          "base_uri": "https://localhost:8080/"
        },
        "id": "H_2bWKnhccYU",
        "outputId": "f1370eac-e884-4142-dbb2-fb397c3a51a1"
      },
      "execution_count": null,
      "outputs": [
        {
          "output_type": "stream",
          "name": "stdout",
          "text": [
            "\n",
            "Matriz de confusão detalhada da Árvore de Decisão:\n",
            " Predito  1.0  2.0  Todos\n",
            "Real                    \n",
            "0.0       20    0     20\n",
            "1.0      332    3    335\n",
            "2.0       22    7     29\n",
            "Todos    374   10    384\n"
          ]
        }
      ]
    },
    {
      "cell_type": "code",
      "source": [
        "import sklearn.metrics as metrics\n",
        "print(\"Relatório sobre a qualidade:\\n\")\n",
        "print(metrics.classification_report(y_test, predictions,target_names=['Baixa', 'Média', 'Alta']))"
      ],
      "metadata": {
        "colab": {
          "base_uri": "https://localhost:8080/"
        },
        "id": "1r2lrIpSc8eM",
        "outputId": "17d56598-d58d-476d-d145-cb6e13681808"
      },
      "execution_count": null,
      "outputs": [
        {
          "output_type": "stream",
          "name": "stdout",
          "text": [
            "Relatório sobre a qualidade:\n",
            "\n",
            "              precision    recall  f1-score   support\n",
            "\n",
            "       Baixa       0.00      0.00      0.00        20\n",
            "       Média       0.89      0.99      0.94       335\n",
            "        Alta       0.70      0.24      0.36        29\n",
            "\n",
            "    accuracy                           0.88       384\n",
            "   macro avg       0.53      0.41      0.43       384\n",
            "weighted avg       0.83      0.88      0.84       384\n",
            "\n"
          ]
        }
      ]
    },
    {
      "cell_type": "code",
      "source": [
        "import graphviz\n",
        "dot_data = tree.export_graphviz(modArv, out_file=None)\n",
        "graph = graphviz.Source(dot_data)\n",
        "graph.render(\"s2\")\n",
        "dot_data = tree.export_graphviz(modArv, out_file=None,\n",
        "feature_names=('Highest Charting Position', 'Number of Times Charted', 'Artist Followers', 'Streams', 'Danceability'),\n",
        "class_names=('Baixa', 'Média', 'Alta', 'Muito Alta'),\n",
        "filled=True, rounded=True,\n",
        "special_characters=True)\n",
        "graph = graphviz.Source(dot_data, format=\"png\")\n",
        "graph"
      ],
      "metadata": {
        "colab": {
          "base_uri": "https://localhost:8080/"
        },
        "id": "GCumqsXxqR4z",
        "outputId": "ba5b812f-080c-407f-9c6f-077c498a781f"
      },
      "execution_count": null,
      "outputs": [
        {
          "output_type": "execute_result",
          "data": {
            "text/plain": [
              "<graphviz.files.Source at 0x7f468f44bc10>"
            ],
            "image/svg+xml": "<?xml version=\"1.0\" encoding=\"UTF-8\" standalone=\"no\"?>\n<!DOCTYPE svg PUBLIC \"-//W3C//DTD SVG 1.1//EN\"\n \"http://www.w3.org/Graphics/SVG/1.1/DTD/svg11.dtd\">\n<!-- Generated by graphviz version 2.40.1 (20161225.0304)\n -->\n<!-- Title: Tree Pages: 1 -->\n<svg width=\"1197pt\" height=\"433pt\"\n viewBox=\"0.00 0.00 1197.00 433.00\" xmlns=\"http://www.w3.org/2000/svg\" xmlns:xlink=\"http://www.w3.org/1999/xlink\">\n<g id=\"graph0\" class=\"graph\" transform=\"scale(1 1) rotate(0) translate(4 429)\">\n<title>Tree</title>\n<polygon fill=\"#ffffff\" stroke=\"transparent\" points=\"-4,4 -4,-429 1193,-429 1193,4 -4,4\"/>\n<!-- 0 -->\n<g id=\"node1\" class=\"node\">\n<title>0</title>\n<path fill=\"#59e995\" stroke=\"#000000\" d=\"M618.5,-425C618.5,-425 487.5,-425 487.5,-425 481.5,-425 475.5,-419 475.5,-413 475.5,-413 475.5,-354 475.5,-354 475.5,-348 481.5,-342 487.5,-342 487.5,-342 618.5,-342 618.5,-342 624.5,-342 630.5,-348 630.5,-354 630.5,-354 630.5,-413 630.5,-413 630.5,-419 624.5,-425 618.5,-425\"/>\n<text text-anchor=\"start\" x=\"483.5\" y=\"-409.8\" font-family=\"Helvetica,sans-Serif\" font-size=\"14.00\" fill=\"#000000\">Streams ≤ 5467275.0</text>\n<text text-anchor=\"start\" x=\"502\" y=\"-394.8\" font-family=\"Helvetica,sans-Serif\" font-size=\"14.00\" fill=\"#000000\">entropy = 0.743</text>\n<text text-anchor=\"start\" x=\"501\" y=\"-379.8\" font-family=\"Helvetica,sans-Serif\" font-size=\"14.00\" fill=\"#000000\">samples = 1150</text>\n<text text-anchor=\"start\" x=\"487\" y=\"-364.8\" font-family=\"Helvetica,sans-Serif\" font-size=\"14.00\" fill=\"#000000\">value = [69, 982, 99]</text>\n<text text-anchor=\"start\" x=\"508\" y=\"-349.8\" font-family=\"Helvetica,sans-Serif\" font-size=\"14.00\" fill=\"#000000\">class = Média</text>\n</g>\n<!-- 1 -->\n<g id=\"node2\" class=\"node\">\n<title>1</title>\n<path fill=\"#43e687\" stroke=\"#000000\" d=\"M498.5,-306C498.5,-306 367.5,-306 367.5,-306 361.5,-306 355.5,-300 355.5,-294 355.5,-294 355.5,-235 355.5,-235 355.5,-229 361.5,-223 367.5,-223 367.5,-223 498.5,-223 498.5,-223 504.5,-223 510.5,-229 510.5,-235 510.5,-235 510.5,-294 510.5,-294 510.5,-300 504.5,-306 498.5,-306\"/>\n<text text-anchor=\"start\" x=\"363.5\" y=\"-290.8\" font-family=\"Helvetica,sans-Serif\" font-size=\"14.00\" fill=\"#000000\">Streams ≤ 4988446.5</text>\n<text text-anchor=\"start\" x=\"382\" y=\"-275.8\" font-family=\"Helvetica,sans-Serif\" font-size=\"14.00\" fill=\"#000000\">entropy = 0.311</text>\n<text text-anchor=\"start\" x=\"385\" y=\"-260.8\" font-family=\"Helvetica,sans-Serif\" font-size=\"14.00\" fill=\"#000000\">samples = 677</text>\n<text text-anchor=\"start\" x=\"371\" y=\"-245.8\" font-family=\"Helvetica,sans-Serif\" font-size=\"14.00\" fill=\"#000000\">value = [28, 644, 5]</text>\n<text text-anchor=\"start\" x=\"388\" y=\"-230.8\" font-family=\"Helvetica,sans-Serif\" font-size=\"14.00\" fill=\"#000000\">class = Média</text>\n</g>\n<!-- 0&#45;&gt;1 -->\n<g id=\"edge1\" class=\"edge\">\n<title>0&#45;&gt;1</title>\n<path fill=\"none\" stroke=\"#000000\" d=\"M511.0298,-341.8796C501.7662,-332.6931 491.8704,-322.8798 482.3448,-313.4336\"/>\n<polygon fill=\"#000000\" stroke=\"#000000\" points=\"484.7144,-310.8543 475.1493,-306.2981 479.7854,-315.8247 484.7144,-310.8543\"/>\n<text text-anchor=\"middle\" x=\"475.2539\" y=\"-327.5979\" font-family=\"Helvetica,sans-Serif\" font-size=\"14.00\" fill=\"#000000\">True</text>\n</g>\n<!-- 8 -->\n<g id=\"node9\" class=\"node\">\n<title>8</title>\n<path fill=\"#80eeae\" stroke=\"#000000\" d=\"M801,-306C801,-306 601,-306 601,-306 595,-306 589,-300 589,-294 589,-294 589,-235 589,-235 589,-229 595,-223 601,-223 601,-223 801,-223 801,-223 807,-223 813,-229 813,-235 813,-235 813,-294 813,-294 813,-300 807,-306 801,-306\"/>\n<text text-anchor=\"start\" x=\"597\" y=\"-290.8\" font-family=\"Helvetica,sans-Serif\" font-size=\"14.00\" fill=\"#000000\">Highest Charting Position ≤ 34.5</text>\n<text text-anchor=\"start\" x=\"650\" y=\"-275.8\" font-family=\"Helvetica,sans-Serif\" font-size=\"14.00\" fill=\"#000000\">entropy = 1.116</text>\n<text text-anchor=\"start\" x=\"653\" y=\"-260.8\" font-family=\"Helvetica,sans-Serif\" font-size=\"14.00\" fill=\"#000000\">samples = 473</text>\n<text text-anchor=\"start\" x=\"635\" y=\"-245.8\" font-family=\"Helvetica,sans-Serif\" font-size=\"14.00\" fill=\"#000000\">value = [41, 338, 94]</text>\n<text text-anchor=\"start\" x=\"656\" y=\"-230.8\" font-family=\"Helvetica,sans-Serif\" font-size=\"14.00\" fill=\"#000000\">class = Média</text>\n</g>\n<!-- 0&#45;&gt;8 -->\n<g id=\"edge8\" class=\"edge\">\n<title>0&#45;&gt;8</title>\n<path fill=\"none\" stroke=\"#000000\" d=\"M604.7632,-341.8796C616.5928,-332.368 629.2581,-322.1843 641.3871,-312.432\"/>\n<polygon fill=\"#000000\" stroke=\"#000000\" points=\"643.6659,-315.0908 649.266,-306.0969 639.2796,-309.6355 643.6659,-315.0908\"/>\n<text text-anchor=\"middle\" x=\"646.5665\" y=\"-327.2508\" font-family=\"Helvetica,sans-Serif\" font-size=\"14.00\" fill=\"#000000\">False</text>\n</g>\n<!-- 2 -->\n<g id=\"node3\" class=\"node\">\n<title>2</title>\n<path fill=\"#44e688\" stroke=\"#000000\" d=\"M282.5,-187C282.5,-187 151.5,-187 151.5,-187 145.5,-187 139.5,-181 139.5,-175 139.5,-175 139.5,-116 139.5,-116 139.5,-110 145.5,-104 151.5,-104 151.5,-104 282.5,-104 282.5,-104 288.5,-104 294.5,-110 294.5,-116 294.5,-116 294.5,-175 294.5,-175 294.5,-181 288.5,-187 282.5,-187\"/>\n<text text-anchor=\"start\" x=\"147.5\" y=\"-171.8\" font-family=\"Helvetica,sans-Serif\" font-size=\"14.00\" fill=\"#000000\">Streams ≤ 4980657.5</text>\n<text text-anchor=\"start\" x=\"166\" y=\"-156.8\" font-family=\"Helvetica,sans-Serif\" font-size=\"14.00\" fill=\"#000000\">entropy = 0.291</text>\n<text text-anchor=\"start\" x=\"169\" y=\"-141.8\" font-family=\"Helvetica,sans-Serif\" font-size=\"14.00\" fill=\"#000000\">samples = 352</text>\n<text text-anchor=\"start\" x=\"155\" y=\"-126.8\" font-family=\"Helvetica,sans-Serif\" font-size=\"14.00\" fill=\"#000000\">value = [18, 334, 0]</text>\n<text text-anchor=\"start\" x=\"172\" y=\"-111.8\" font-family=\"Helvetica,sans-Serif\" font-size=\"14.00\" fill=\"#000000\">class = Média</text>\n</g>\n<!-- 1&#45;&gt;2 -->\n<g id=\"edge2\" class=\"edge\">\n<title>1&#45;&gt;2</title>\n<path fill=\"none\" stroke=\"#000000\" d=\"M357.4537,-222.8796C339.3668,-212.915 319.9411,-202.2129 301.4793,-192.0418\"/>\n<polygon fill=\"#000000\" stroke=\"#000000\" points=\"302.9513,-188.8568 292.5037,-187.0969 299.5735,-194.9879 302.9513,-188.8568\"/>\n</g>\n<!-- 5 -->\n<g id=\"node6\" class=\"node\">\n<title>5</title>\n<path fill=\"#42e687\" stroke=\"#000000\" d=\"M525,-187C525,-187 341,-187 341,-187 335,-187 329,-181 329,-175 329,-175 329,-116 329,-116 329,-110 335,-104 341,-104 341,-104 525,-104 525,-104 531,-104 537,-110 537,-116 537,-116 537,-175 537,-175 537,-181 531,-187 525,-187\"/>\n<text text-anchor=\"start\" x=\"337\" y=\"-171.8\" font-family=\"Helvetica,sans-Serif\" font-size=\"14.00\" fill=\"#000000\">Artist Followers ≤ 11583682.5</text>\n<text text-anchor=\"start\" x=\"382\" y=\"-156.8\" font-family=\"Helvetica,sans-Serif\" font-size=\"14.00\" fill=\"#000000\">entropy = 0.312</text>\n<text text-anchor=\"start\" x=\"385\" y=\"-141.8\" font-family=\"Helvetica,sans-Serif\" font-size=\"14.00\" fill=\"#000000\">samples = 325</text>\n<text text-anchor=\"start\" x=\"371\" y=\"-126.8\" font-family=\"Helvetica,sans-Serif\" font-size=\"14.00\" fill=\"#000000\">value = [10, 310, 5]</text>\n<text text-anchor=\"start\" x=\"388\" y=\"-111.8\" font-family=\"Helvetica,sans-Serif\" font-size=\"14.00\" fill=\"#000000\">class = Média</text>\n</g>\n<!-- 1&#45;&gt;5 -->\n<g id=\"edge5\" class=\"edge\">\n<title>1&#45;&gt;5</title>\n<path fill=\"none\" stroke=\"#000000\" d=\"M433,-222.8796C433,-214.6838 433,-205.9891 433,-197.5013\"/>\n<polygon fill=\"#000000\" stroke=\"#000000\" points=\"436.5001,-197.298 433,-187.2981 429.5001,-197.2981 436.5001,-197.298\"/>\n</g>\n<!-- 3 -->\n<g id=\"node4\" class=\"node\">\n<title>3</title>\n<path fill=\"#42e687\" stroke=\"#000000\" d=\"M128,-68C128,-68 12,-68 12,-68 6,-68 0,-62 0,-56 0,-56 0,-12 0,-12 0,-6 6,0 12,0 12,0 128,0 128,0 134,0 140,-6 140,-12 140,-12 140,-56 140,-56 140,-62 134,-68 128,-68\"/>\n<text text-anchor=\"start\" x=\"23\" y=\"-52.8\" font-family=\"Helvetica,sans-Serif\" font-size=\"14.00\" fill=\"#000000\">entropy = 0.26</text>\n<text text-anchor=\"start\" x=\"22\" y=\"-37.8\" font-family=\"Helvetica,sans-Serif\" font-size=\"14.00\" fill=\"#000000\">samples = 342</text>\n<text text-anchor=\"start\" x=\"8\" y=\"-22.8\" font-family=\"Helvetica,sans-Serif\" font-size=\"14.00\" fill=\"#000000\">value = [15, 327, 0]</text>\n<text text-anchor=\"start\" x=\"25\" y=\"-7.8\" font-family=\"Helvetica,sans-Serif\" font-size=\"14.00\" fill=\"#000000\">class = Média</text>\n</g>\n<!-- 2&#45;&gt;3 -->\n<g id=\"edge3\" class=\"edge\">\n<title>2&#45;&gt;3</title>\n<path fill=\"none\" stroke=\"#000000\" d=\"M162.2626,-103.9815C149.5399,-94.3313 136.0134,-84.0714 123.3515,-74.4673\"/>\n<polygon fill=\"#000000\" stroke=\"#000000\" points=\"125.2553,-71.5184 115.1727,-68.2637 121.025,-77.0956 125.2553,-71.5184\"/>\n</g>\n<!-- 4 -->\n<g id=\"node5\" class=\"node\">\n<title>4</title>\n<path fill=\"#8ef0b7\" stroke=\"#000000\" d=\"M264,-68C264,-68 170,-68 170,-68 164,-68 158,-62 158,-56 158,-56 158,-12 158,-12 158,-6 164,0 170,0 170,0 264,0 264,0 270,0 276,-6 276,-12 276,-12 276,-56 276,-56 276,-62 270,-68 264,-68\"/>\n<text text-anchor=\"start\" x=\"166\" y=\"-52.8\" font-family=\"Helvetica,sans-Serif\" font-size=\"14.00\" fill=\"#000000\">entropy = 0.881</text>\n<text text-anchor=\"start\" x=\"173\" y=\"-37.8\" font-family=\"Helvetica,sans-Serif\" font-size=\"14.00\" fill=\"#000000\">samples = 10</text>\n<text text-anchor=\"start\" x=\"167.5\" y=\"-22.8\" font-family=\"Helvetica,sans-Serif\" font-size=\"14.00\" fill=\"#000000\">value = [3, 7, 0]</text>\n<text text-anchor=\"start\" x=\"172\" y=\"-7.8\" font-family=\"Helvetica,sans-Serif\" font-size=\"14.00\" fill=\"#000000\">class = Média</text>\n</g>\n<!-- 2&#45;&gt;4 -->\n<g id=\"edge4\" class=\"edge\">\n<title>2&#45;&gt;4</title>\n<path fill=\"none\" stroke=\"#000000\" d=\"M217,-103.9815C217,-95.618 217,-86.7965 217,-78.3409\"/>\n<polygon fill=\"#000000\" stroke=\"#000000\" points=\"220.5001,-78.2636 217,-68.2637 213.5001,-78.2637 220.5001,-78.2636\"/>\n</g>\n<!-- 6 -->\n<g id=\"node7\" class=\"node\">\n<title>6</title>\n<path fill=\"#46e789\" stroke=\"#000000\" d=\"M413.5,-68C413.5,-68 306.5,-68 306.5,-68 300.5,-68 294.5,-62 294.5,-56 294.5,-56 294.5,-12 294.5,-12 294.5,-6 300.5,0 306.5,0 306.5,0 413.5,0 413.5,0 419.5,0 425.5,-6 425.5,-12 425.5,-12 425.5,-56 425.5,-56 425.5,-62 419.5,-68 413.5,-68\"/>\n<text text-anchor=\"start\" x=\"309\" y=\"-52.8\" font-family=\"Helvetica,sans-Serif\" font-size=\"14.00\" fill=\"#000000\">entropy = 0.403</text>\n<text text-anchor=\"start\" x=\"312\" y=\"-37.8\" font-family=\"Helvetica,sans-Serif\" font-size=\"14.00\" fill=\"#000000\">samples = 204</text>\n<text text-anchor=\"start\" x=\"302.5\" y=\"-22.8\" font-family=\"Helvetica,sans-Serif\" font-size=\"14.00\" fill=\"#000000\">value = [8, 191, 5]</text>\n<text text-anchor=\"start\" x=\"315\" y=\"-7.8\" font-family=\"Helvetica,sans-Serif\" font-size=\"14.00\" fill=\"#000000\">class = Média</text>\n</g>\n<!-- 5&#45;&gt;6 -->\n<g id=\"edge6\" class=\"edge\">\n<title>5&#45;&gt;6</title>\n<path fill=\"none\" stroke=\"#000000\" d=\"M405.8175,-103.9815C399.9808,-95.0666 393.8034,-85.6313 387.9386,-76.6734\"/>\n<polygon fill=\"#000000\" stroke=\"#000000\" points=\"390.8386,-74.7129 382.4327,-68.2637 384.9821,-78.5472 390.8386,-74.7129\"/>\n</g>\n<!-- 7 -->\n<g id=\"node8\" class=\"node\">\n<title>7</title>\n<path fill=\"#3ce583\" stroke=\"#000000\" d=\"M562.5,-68C562.5,-68 455.5,-68 455.5,-68 449.5,-68 443.5,-62 443.5,-56 443.5,-56 443.5,-12 443.5,-12 443.5,-6 449.5,0 455.5,0 455.5,0 562.5,0 562.5,0 568.5,0 574.5,-6 574.5,-12 574.5,-12 574.5,-56 574.5,-56 574.5,-62 568.5,-68 562.5,-68\"/>\n<text text-anchor=\"start\" x=\"458\" y=\"-52.8\" font-family=\"Helvetica,sans-Serif\" font-size=\"14.00\" fill=\"#000000\">entropy = 0.121</text>\n<text text-anchor=\"start\" x=\"461\" y=\"-37.8\" font-family=\"Helvetica,sans-Serif\" font-size=\"14.00\" fill=\"#000000\">samples = 121</text>\n<text text-anchor=\"start\" x=\"451.5\" y=\"-22.8\" font-family=\"Helvetica,sans-Serif\" font-size=\"14.00\" fill=\"#000000\">value = [2, 119, 0]</text>\n<text text-anchor=\"start\" x=\"464\" y=\"-7.8\" font-family=\"Helvetica,sans-Serif\" font-size=\"14.00\" fill=\"#000000\">class = Média</text>\n</g>\n<!-- 5&#45;&gt;7 -->\n<g id=\"edge7\" class=\"edge\">\n<title>5&#45;&gt;7</title>\n<path fill=\"none\" stroke=\"#000000\" d=\"M461.2996,-103.9815C467.3762,-95.0666 473.8074,-85.6313 479.9132,-76.6734\"/>\n<polygon fill=\"#000000\" stroke=\"#000000\" points=\"482.9052,-78.498 485.6454,-68.2637 477.1211,-74.5555 482.9052,-78.498\"/>\n</g>\n<!-- 9 -->\n<g id=\"node10\" class=\"node\">\n<title>9</title>\n<path fill=\"#f8f4fe\" stroke=\"#000000\" d=\"M771,-187C771,-187 631,-187 631,-187 625,-187 619,-181 619,-175 619,-175 619,-116 619,-116 619,-110 625,-104 631,-104 631,-104 771,-104 771,-104 777,-104 783,-110 783,-116 783,-116 783,-175 783,-175 783,-181 777,-187 771,-187\"/>\n<text text-anchor=\"start\" x=\"627\" y=\"-171.8\" font-family=\"Helvetica,sans-Serif\" font-size=\"14.00\" fill=\"#000000\">Streams ≤ 12800516.5</text>\n<text text-anchor=\"start\" x=\"650\" y=\"-156.8\" font-family=\"Helvetica,sans-Serif\" font-size=\"14.00\" fill=\"#000000\">entropy = 1.271</text>\n<text text-anchor=\"start\" x=\"653\" y=\"-141.8\" font-family=\"Helvetica,sans-Serif\" font-size=\"14.00\" fill=\"#000000\">samples = 130</text>\n<text text-anchor=\"start\" x=\"643.5\" y=\"-126.8\" font-family=\"Helvetica,sans-Serif\" font-size=\"14.00\" fill=\"#000000\">value = [8, 59, 63]</text>\n<text text-anchor=\"start\" x=\"664\" y=\"-111.8\" font-family=\"Helvetica,sans-Serif\" font-size=\"14.00\" fill=\"#000000\">class = Alta</text>\n</g>\n<!-- 8&#45;&gt;9 -->\n<g id=\"edge9\" class=\"edge\">\n<title>8&#45;&gt;9</title>\n<path fill=\"none\" stroke=\"#000000\" d=\"M701,-222.8796C701,-214.6838 701,-205.9891 701,-197.5013\"/>\n<polygon fill=\"#000000\" stroke=\"#000000\" points=\"704.5001,-197.298 701,-187.2981 697.5001,-197.2981 704.5001,-197.298\"/>\n</g>\n<!-- 12 -->\n<g id=\"node13\" class=\"node\">\n<title>12</title>\n<path fill=\"#62ea9b\" stroke=\"#000000\" d=\"M1050,-187C1050,-187 856,-187 856,-187 850,-187 844,-181 844,-175 844,-175 844,-116 844,-116 844,-110 850,-104 856,-104 856,-104 1050,-104 1050,-104 1056,-104 1062,-110 1062,-116 1062,-116 1062,-175 1062,-175 1062,-181 1056,-187 1050,-187\"/>\n<text text-anchor=\"start\" x=\"852\" y=\"-171.8\" font-family=\"Helvetica,sans-Serif\" font-size=\"14.00\" fill=\"#000000\">Number of Times Charted ≤ 2.5</text>\n<text text-anchor=\"start\" x=\"902\" y=\"-156.8\" font-family=\"Helvetica,sans-Serif\" font-size=\"14.00\" fill=\"#000000\">entropy = 0.881</text>\n<text text-anchor=\"start\" x=\"905\" y=\"-141.8\" font-family=\"Helvetica,sans-Serif\" font-size=\"14.00\" fill=\"#000000\">samples = 343</text>\n<text text-anchor=\"start\" x=\"887\" y=\"-126.8\" font-family=\"Helvetica,sans-Serif\" font-size=\"14.00\" fill=\"#000000\">value = [33, 279, 31]</text>\n<text text-anchor=\"start\" x=\"908\" y=\"-111.8\" font-family=\"Helvetica,sans-Serif\" font-size=\"14.00\" fill=\"#000000\">class = Média</text>\n</g>\n<!-- 8&#45;&gt;12 -->\n<g id=\"edge12\" class=\"edge\">\n<title>8&#45;&gt;12</title>\n<path fill=\"none\" stroke=\"#000000\" d=\"M789.1374,-222.8796C810.6224,-212.7339 833.7267,-201.8235 855.6146,-191.4876\"/>\n<polygon fill=\"#000000\" stroke=\"#000000\" points=\"857.3644,-194.5319 864.9124,-187.0969 854.3754,-188.2022 857.3644,-194.5319\"/>\n</g>\n<!-- 10 -->\n<g id=\"node11\" class=\"node\">\n<title>10</title>\n<path fill=\"#c4f7da\" stroke=\"#000000\" d=\"M711.5,-68C711.5,-68 604.5,-68 604.5,-68 598.5,-68 592.5,-62 592.5,-56 592.5,-56 592.5,-12 592.5,-12 592.5,-6 598.5,0 604.5,0 604.5,0 711.5,0 711.5,0 717.5,0 723.5,-6 723.5,-12 723.5,-12 723.5,-56 723.5,-56 723.5,-62 717.5,-68 711.5,-68\"/>\n<text text-anchor=\"start\" x=\"607\" y=\"-52.8\" font-family=\"Helvetica,sans-Serif\" font-size=\"14.00\" fill=\"#000000\">entropy = 1.292</text>\n<text text-anchor=\"start\" x=\"610\" y=\"-37.8\" font-family=\"Helvetica,sans-Serif\" font-size=\"14.00\" fill=\"#000000\">samples = 101</text>\n<text text-anchor=\"start\" x=\"600.5\" y=\"-22.8\" font-family=\"Helvetica,sans-Serif\" font-size=\"14.00\" fill=\"#000000\">value = [8, 56, 37]</text>\n<text text-anchor=\"start\" x=\"613\" y=\"-7.8\" font-family=\"Helvetica,sans-Serif\" font-size=\"14.00\" fill=\"#000000\">class = Média</text>\n</g>\n<!-- 9&#45;&gt;10 -->\n<g id=\"edge10\" class=\"edge\">\n<title>9&#45;&gt;10</title>\n<path fill=\"none\" stroke=\"#000000\" d=\"M684.9884,-103.9815C681.6921,-95.4342 678.2114,-86.4086 674.8853,-77.7839\"/>\n<polygon fill=\"#000000\" stroke=\"#000000\" points=\"678.0776,-76.3345 671.2138,-68.2637 671.5465,-78.8533 678.0776,-76.3345\"/>\n</g>\n<!-- 11 -->\n<g id=\"node12\" class=\"node\">\n<title>11</title>\n<path fill=\"#9050e8\" stroke=\"#000000\" d=\"M852.5,-68C852.5,-68 753.5,-68 753.5,-68 747.5,-68 741.5,-62 741.5,-56 741.5,-56 741.5,-12 741.5,-12 741.5,-6 747.5,0 753.5,0 753.5,0 852.5,0 852.5,0 858.5,0 864.5,-6 864.5,-12 864.5,-12 864.5,-56 864.5,-56 864.5,-62 858.5,-68 852.5,-68\"/>\n<text text-anchor=\"start\" x=\"756\" y=\"-52.8\" font-family=\"Helvetica,sans-Serif\" font-size=\"14.00\" fill=\"#000000\">entropy = 0.48</text>\n<text text-anchor=\"start\" x=\"759\" y=\"-37.8\" font-family=\"Helvetica,sans-Serif\" font-size=\"14.00\" fill=\"#000000\">samples = 29</text>\n<text text-anchor=\"start\" x=\"749.5\" y=\"-22.8\" font-family=\"Helvetica,sans-Serif\" font-size=\"14.00\" fill=\"#000000\">value = [0, 3, 26]</text>\n<text text-anchor=\"start\" x=\"766\" y=\"-7.8\" font-family=\"Helvetica,sans-Serif\" font-size=\"14.00\" fill=\"#000000\">class = Alta</text>\n</g>\n<!-- 9&#45;&gt;11 -->\n<g id=\"edge11\" class=\"edge\">\n<title>9&#45;&gt;11</title>\n<path fill=\"none\" stroke=\"#000000\" d=\"M738.981,-103.9815C747.3886,-94.7908 756.3021,-85.0472 764.7215,-75.8436\"/>\n<polygon fill=\"#000000\" stroke=\"#000000\" points=\"767.4883,-78.0045 771.6557,-68.2637 762.3234,-73.2797 767.4883,-78.0045\"/>\n</g>\n<!-- 13 -->\n<g id=\"node14\" class=\"node\">\n<title>13</title>\n<path fill=\"#56e994\" stroke=\"#000000\" d=\"M1011,-68C1011,-68 895,-68 895,-68 889,-68 883,-62 883,-56 883,-56 883,-12 883,-12 883,-6 889,0 895,0 895,0 1011,0 1011,0 1017,0 1023,-6 1023,-12 1023,-12 1023,-56 1023,-56 1023,-62 1017,-68 1011,-68\"/>\n<text text-anchor=\"start\" x=\"902\" y=\"-52.8\" font-family=\"Helvetica,sans-Serif\" font-size=\"14.00\" fill=\"#000000\">entropy = 0.629</text>\n<text text-anchor=\"start\" x=\"905\" y=\"-37.8\" font-family=\"Helvetica,sans-Serif\" font-size=\"14.00\" fill=\"#000000\">samples = 191</text>\n<text text-anchor=\"start\" x=\"891\" y=\"-22.8\" font-family=\"Helvetica,sans-Serif\" font-size=\"14.00\" fill=\"#000000\">value = [22, 166, 3]</text>\n<text text-anchor=\"start\" x=\"908\" y=\"-7.8\" font-family=\"Helvetica,sans-Serif\" font-size=\"14.00\" fill=\"#000000\">class = Média</text>\n</g>\n<!-- 12&#45;&gt;13 -->\n<g id=\"edge13\" class=\"edge\">\n<title>12&#45;&gt;13</title>\n<path fill=\"none\" stroke=\"#000000\" d=\"M953,-103.9815C953,-95.618 953,-86.7965 953,-78.3409\"/>\n<polygon fill=\"#000000\" stroke=\"#000000\" points=\"956.5001,-78.2636 953,-68.2637 949.5001,-78.2637 956.5001,-78.2636\"/>\n</g>\n<!-- 14 -->\n<g id=\"node15\" class=\"node\">\n<title>14</title>\n<path fill=\"#77eda9\" stroke=\"#000000\" d=\"M1177,-68C1177,-68 1053,-68 1053,-68 1047,-68 1041,-62 1041,-56 1041,-56 1041,-12 1041,-12 1041,-6 1047,0 1053,0 1053,0 1177,0 1177,0 1183,0 1189,-6 1189,-12 1189,-12 1189,-56 1189,-56 1189,-62 1183,-68 1177,-68\"/>\n<text text-anchor=\"start\" x=\"1064\" y=\"-52.8\" font-family=\"Helvetica,sans-Serif\" font-size=\"14.00\" fill=\"#000000\">entropy = 1.042</text>\n<text text-anchor=\"start\" x=\"1067\" y=\"-37.8\" font-family=\"Helvetica,sans-Serif\" font-size=\"14.00\" fill=\"#000000\">samples = 152</text>\n<text text-anchor=\"start\" x=\"1049\" y=\"-22.8\" font-family=\"Helvetica,sans-Serif\" font-size=\"14.00\" fill=\"#000000\">value = [11, 113, 28]</text>\n<text text-anchor=\"start\" x=\"1070\" y=\"-7.8\" font-family=\"Helvetica,sans-Serif\" font-size=\"14.00\" fill=\"#000000\">class = Média</text>\n</g>\n<!-- 12&#45;&gt;14 -->\n<g id=\"edge14\" class=\"edge\">\n<title>12&#45;&gt;14</title>\n<path fill=\"none\" stroke=\"#000000\" d=\"M1013.3228,-103.9815C1027.686,-94.0957 1042.9788,-83.5701 1057.2247,-73.7651\"/>\n<polygon fill=\"#000000\" stroke=\"#000000\" points=\"1059.2234,-76.6384 1065.4765,-68.0856 1055.2546,-70.8722 1059.2234,-76.6384\"/>\n</g>\n</g>\n</svg>\n"
          },
          "metadata": {},
          "execution_count": 32
        }
      ]
    },
    {
      "cell_type": "markdown",
      "source": [
        "#Classificador KNN"
      ],
      "metadata": {
        "id": "8i-cofaAwNHw"
      }
    },
    {
      "cell_type": "code",
      "source": [
        "X = s2[['Highest Charting Position', 'Number of Times Charted', 'Artist Followers', 'Streams', 'Danceability']]\n",
        "y = s2['Popularity']\n",
        "(X_train, X_test, y_train, y_test) = train_test_split(X,y)\n",
        "modKnn = KNeighborsClassifier()\n",
        "modKnn.fit(X_train,y_train)\n",
        "precisao = str(round(modKnn.score(X_test,y_test) * 100, 2))+\"%\"\n",
        "print(\"A acurácia do modelo k-NN foi\",precisao)\n",
        "y_pred = modKnn.predict(X_test)\n",
        "print(\"Relatório sobre a qualidade:\\n\")\n",
        "print(classification_report(y_test, y_pred))"
      ],
      "metadata": {
        "id": "z6BevRlywMQM",
        "colab": {
          "base_uri": "https://localhost:8080/"
        },
        "outputId": "13f61559-acdf-438c-c2aa-7210859b7260"
      },
      "execution_count": null,
      "outputs": [
        {
          "output_type": "stream",
          "name": "stdout",
          "text": [
            "A acurácia do modelo k-NN foi 84.9%\n",
            "Relatório sobre a qualidade:\n",
            "\n",
            "              precision    recall  f1-score   support\n",
            "\n",
            "         0.0       0.00      0.00      0.00        21\n",
            "         1.0       0.88      0.96      0.92       334\n",
            "         2.0       0.36      0.17      0.23        29\n",
            "\n",
            "    accuracy                           0.85       384\n",
            "   macro avg       0.41      0.38      0.38       384\n",
            "weighted avg       0.79      0.85      0.82       384\n",
            "\n"
          ]
        }
      ]
    },
    {
      "cell_type": "code",
      "source": [
        "print(\"\\nMatriz de confusão detalhada do KNN:\\n\",\n",
        "pd.crosstab(y_test, y_pred, rownames=['Real'], colnames=\n",
        "['Predito'],\n",
        "margins=True, margins_name='Todos'))"
      ],
      "metadata": {
        "colab": {
          "base_uri": "https://localhost:8080/"
        },
        "id": "camSp5Msibxo",
        "outputId": "9e612c8a-e639-43cc-ca93-ddb45d68b2df"
      },
      "execution_count": null,
      "outputs": [
        {
          "output_type": "stream",
          "name": "stdout",
          "text": [
            "\n",
            "Matriz de confusão detalhada do KNN:\n",
            " Predito  0.0  1.0  2.0  Todos\n",
            "Real                         \n",
            "0.0        0   21    0     21\n",
            "1.0        4  321    9    334\n",
            "2.0        0   24    5     29\n",
            "Todos      4  366   14    384\n"
          ]
        }
      ]
    },
    {
      "cell_type": "code",
      "source": [
        "scaler = Normalizer()\n",
        "scaler.fit(X)\n",
        "X = scaler.transform(X)\n",
        "scores = []\n",
        "for i in range(2000):\n",
        "  X_train, X_test, y_train, y_test = train_test_split(X,y)\n",
        "  model = KNeighborsClassifier()\n",
        "  model.fit(X_train,y_train)\n",
        "  precisao = model.score(X_test,y_test)\n",
        "  scores.append(precisao)\n",
        "\n",
        "print(\"Média: {:.2f}%\".format(np.mean(scores)*100))\n",
        "print(\"Desvio padrão: {:.2f}%\".format(np.std(scores)*100))"
      ],
      "metadata": {
        "colab": {
          "base_uri": "https://localhost:8080/"
        },
        "id": "NLOJEwFqwx3D",
        "outputId": "0ea1f14c-95cc-471f-ef1f-a44aef036667"
      },
      "execution_count": null,
      "outputs": [
        {
          "output_type": "stream",
          "name": "stdout",
          "text": [
            "Média: 84.24%\n",
            "Desvio padrão: 1.59%\n"
          ]
        }
      ]
    },
    {
      "cell_type": "code",
      "source": [
        "sns.displot(scores)\n",
        "plt.yticks([])\n",
        "plt.title(\"Acurácias do k-NN\")\n",
        "plt.show()"
      ],
      "metadata": {
        "colab": {
          "base_uri": "https://localhost:8080/"
        },
        "id": "P2XGCVFcxQwy",
        "outputId": "e68f2b11-9a8f-459d-c530-6481ec1c0481"
      },
      "execution_count": null,
      "outputs": [
        {
          "output_type": "display_data",
          "data": {
            "text/plain": [
              "<Figure size 360x360 with 1 Axes>"
            ],
            "image/png": "[encoded data removed]"
          },
          "metadata": {
            "needs_background": "light"
          }
        }
      ]
    },
    {
      "cell_type": "markdown",
      "source": [
        "#Classificador Naive Bayes\n",
        "\n"
      ],
      "metadata": {
        "id": "5MM8h7v1wsAv"
      }
    },
    {
      "cell_type": "code",
      "source": [
        "X = s2[['Highest Charting Position', 'Number of Times Charted', 'Artist Followers', 'Streams', 'Danceability']]\n",
        "y = s2['Popularity']\n",
        "(X_train, X_test, y_train, y_test) = train_test_split(X,y)"
      ],
      "metadata": {
        "id": "sbHEuuqCxDyf"
      },
      "execution_count": null,
      "outputs": []
    },
    {
      "cell_type": "code",
      "source": [
        "modNaive = GaussianNB()\n",
        "modNaive.fit(X_train,y_train)\n",
        "precisao1 = str(round(modNaive.score(X_test,y_test) * 100, 2))+\"%\"\n",
        "print(\"A acurácia do modelo Naive Bayes foi\",precisao1)\n",
        "y_pred = modNaive.predict(X_test)\n",
        "print(\"Relatório sobre a qualidade:\\n\")\n",
        "print(classification_report(y_test, y_pred))"
      ],
      "metadata": {
        "colab": {
          "base_uri": "https://localhost:8080/"
        },
        "id": "wV0b76nHhV0j",
        "outputId": "5f97429b-de71-4993-c5bb-2b874a2291e9"
      },
      "execution_count": null,
      "outputs": [
        {
          "output_type": "stream",
          "name": "stdout",
          "text": [
            "A acurácia do modelo Naive Bayes foi 85.42%\n",
            "Relatório sobre a qualidade:\n",
            "\n",
            "              precision    recall  f1-score   support\n",
            "\n",
            "         0.0       0.00      0.00      0.00        21\n",
            "         1.0       0.87      0.98      0.92       329\n",
            "         2.0       0.44      0.21      0.28        34\n",
            "\n",
            "    accuracy                           0.85       384\n",
            "   macro avg       0.44      0.39      0.40       384\n",
            "weighted avg       0.79      0.85      0.81       384\n",
            "\n"
          ]
        }
      ]
    },
    {
      "cell_type": "code",
      "source": [
        "print(\"\\nMatriz de confusão detalhada do Naive Bayes:\\n\",\n",
        "pd.crosstab(y_test, y_pred, rownames=['Real'], colnames=\n",
        "['Predito'],\n",
        "margins=True, margins_name='Todos'))"
      ],
      "metadata": {
        "colab": {
          "base_uri": "https://localhost:8080/"
        },
        "id": "UQjmU84Xi4-o",
        "outputId": "4d5c0a8b-aac7-42be-e0aa-09abfc6ab0ba"
      },
      "execution_count": null,
      "outputs": [
        {
          "output_type": "stream",
          "name": "stdout",
          "text": [
            "\n",
            "Matriz de confusão detalhada do Naive Bayes:\n",
            " Predito  1.0  2.0  Todos\n",
            "Real                    \n",
            "0.0       20    1     21\n",
            "1.0      321    8    329\n",
            "2.0       27    7     34\n",
            "Todos    368   16    384\n"
          ]
        }
      ]
    },
    {
      "cell_type": "code",
      "source": [
        "scaler = Normalizer()\n",
        "scaler.fit(X)\n",
        "X = scaler.transform(X)\n",
        "scores = []\n",
        "for i in range(2000):\n",
        "  X_train, X_test, y_train, y_test = train_test_split(X,y)\n",
        "  model = GaussianNB()\n",
        "  model.fit(X_train,y_train)\n",
        "  precisao = model.score(X_test,y_test)\n",
        "  scores.append(precisao)\n",
        "\n",
        "print(\"Média: {:.2f}%\".format(np.mean(scores)*100))\n",
        "print(\"Desvio padrão: {:.2f}%\".format(np.std(scores)*100))"
      ],
      "metadata": {
        "colab": {
          "base_uri": "https://localhost:8080/"
        },
        "id": "bUoVbQnRyY4R",
        "outputId": "0f2a9d7f-9e7d-41db-f870-ff8c12d9609f"
      },
      "execution_count": null,
      "outputs": [
        {
          "output_type": "stream",
          "name": "stdout",
          "text": [
            "Média: 85.82%\n",
            "Desvio padrão: 1.54%\n"
          ]
        }
      ]
    },
    {
      "cell_type": "code",
      "source": [
        "sns.displot(scores)\n",
        "plt.yticks([])\n",
        "plt.title(\"Acurácias do Naive Bayes\")\n",
        "plt.show()"
      ],
      "metadata": {
        "colab": {
          "base_uri": "https://localhost:8080/"
        },
        "id": "f4tHFzLJy0ao",
        "outputId": "c2b45d9d-f222-4718-c23d-a6841755f3f8"
      },
      "execution_count": null,
      "outputs": [
        {
          "output_type": "display_data",
          "data": {
            "text/plain": [
              "<Figure size 360x360 with 1 Axes>"
            ],
            "image/png": "[encoded data removed]"
          },
          "metadata": {
            "needs_background": "light"
          }
        }
      ]
    },
    {
      "cell_type": "markdown",
      "source": [
        "#Classificador SVM"
      ],
      "metadata": {
        "id": "7ywqy4LpxEIt"
      }
    },
    {
      "cell_type": "code",
      "source": [
        "X = s2[['Highest Charting Position', 'Number of Times Charted', 'Artist Followers', 'Streams', 'Danceability']]\n",
        "y = s2['Popularity']\n",
        "\n",
        "X_train, X_test, y_train, y_test = train_test_split(X, y, test_size=0.25)"
      ],
      "metadata": {
        "id": "0rtbirivfFIO"
      },
      "execution_count": null,
      "outputs": []
    },
    {
      "cell_type": "code",
      "source": [
        "modSVM = svm.SVC()\n",
        "modSVM.fit(X_train, y_train)\n",
        "precisao = str(round(modSVM.score(X_test,y_test) * 100, 2))+\"%\"\n",
        "print(\"A acurácia do modelo SVM foi\",precisao)\n",
        "y_pred = modSVM.predict(X_test)\n",
        "print(\"Relatório sobre a qualidade:\\n\")\n",
        "print(classification_report(y_test, y_pred))"
      ],
      "metadata": {
        "id": "PhnfPsLyfbVs",
        "colab": {
          "base_uri": "https://localhost:8080/"
        },
        "outputId": "bc321fe3-150d-4652-c1f5-c0f78a48ccfb"
      },
      "execution_count": null,
      "outputs": [
        {
          "output_type": "stream",
          "name": "stdout",
          "text": [
            "A acurácia do modelo SVM foi 86.46%\n",
            "Relatório sobre a qualidade:\n",
            "\n",
            "              precision    recall  f1-score   support\n",
            "\n",
            "         0.0       0.00      0.00      0.00        21\n",
            "         1.0       0.86      1.00      0.93       328\n",
            "         2.0       1.00      0.11      0.21        35\n",
            "\n",
            "    accuracy                           0.86       384\n",
            "   macro avg       0.62      0.37      0.38       384\n",
            "weighted avg       0.83      0.86      0.81       384\n",
            "\n"
          ]
        }
      ]
    },
    {
      "cell_type": "code",
      "source": [
        "print(\"\\nMatriz de confusão detalhada do SVM:\\n\",\n",
        "pd.crosstab(y_test, y_pred, rownames=['Real'], colnames=\n",
        "['Predito'],\n",
        "margins=True, margins_name='Todos'))"
      ],
      "metadata": {
        "colab": {
          "base_uri": "https://localhost:8080/"
        },
        "id": "0uDcGQbrjFGC",
        "outputId": "841a2945-87e0-4a7a-e271-5747f5879ebe"
      },
      "execution_count": null,
      "outputs": [
        {
          "output_type": "stream",
          "name": "stdout",
          "text": [
            "\n",
            "Matriz de confusão detalhada do SVM:\n",
            " Predito  1.0  2.0  Todos\n",
            "Real                    \n",
            "0.0       21    0     21\n",
            "1.0      328    0    328\n",
            "2.0       31    4     35\n",
            "Todos    380    4    384\n"
          ]
        }
      ]
    },
    {
      "cell_type": "code",
      "source": [
        "scaler = Normalizer()\n",
        "scaler.fit(X)\n",
        "X = scaler.transform(X)\n",
        "scores = []\n",
        "for i in range(2000):\n",
        "  X_train, X_test, y_train, y_test = train_test_split(X,y)\n",
        "  model = svm.SVC()\n",
        "  model.fit(X_train,y_train)\n",
        "  precisao = model.score(X_test,y_test)\n",
        "  scores.append(precisao)\n",
        "\n",
        "print(\"Média: {:.2f}%\".format(np.mean(scores)*100))\n",
        "print(\"Desvio padrão: {:.2f}%\".format(np.std(scores)*100))"
      ],
      "metadata": {
        "colab": {
          "base_uri": "https://localhost:8080/"
        },
        "id": "ZycDMi62kkcs",
        "outputId": "bc1be9bb-c411-4366-fe49-a413bbab8aac"
      },
      "execution_count": null,
      "outputs": [
        {
          "output_type": "stream",
          "name": "stdout",
          "text": [
            "Média: 85.87%\n",
            "Desvio padrão: 1.57%\n"
          ]
        }
      ]
    },
    {
      "cell_type": "code",
      "source": [
        "sns.displot(scores)\n",
        "plt.yticks([])\n",
        "plt.title(\"Acurácias do SVM\")\n",
        "plt.show()"
      ],
      "metadata": {
        "id": "_JqymSFwk489",
        "colab": {
          "base_uri": "https://localhost:8080/"
        },
        "outputId": "f355688a-df5f-456f-ade4-163cbecaa756"
      },
      "execution_count": null,
      "outputs": [
        {
          "output_type": "display_data",
          "data": {
            "text/plain": [
              "<Figure size 360x360 with 1 Axes>"
            ],
            "image/png": "[encoded data removed]"
          },
          "metadata": {
            "needs_background": "light"
          }
        }
      ]
    },
    {
      "cell_type": "markdown",
      "source": [
        "# Comitê de Classificadores"
      ],
      "metadata": {
        "id": "AY1vYudxuAAV"
      }
    },
    {
      "cell_type": "code",
      "source": [
        "tot_baixa = 0\n",
        "tot_media = 0\n",
        "tot_alta = 0\n",
        "\n",
        "\n",
        "pred_knn = (modKnn.predict([[158.0, 1.0, 3071170.0, 4569978.0, 0.681]]))\n",
        "if pred_knn == 0 :\n",
        "  tot_baixa = tot_baixa + 1\n",
        "elif pred_knn == 1 :\n",
        "  tot_media = tot_media + 1\n",
        "else:\n",
        "  tot_alta = tot_alta + 1\n",
        "print(\"O kNN classificou como:\" ,pred_knn)\n",
        "\n",
        "pred_naive = (modNaive.predict([[158.0, 1.0, 3071170.0, 4569978.0, 0.681]]))\n",
        "if pred_naive == 0 :\n",
        "  tot_baixa = tot_baixa + 1\n",
        "elif pred_naive == 1 :\n",
        "  tot_media = tot_media + 1\n",
        "else:\n",
        "  tot_alta = tot_alta + 1\n",
        "print(\"O Naive Bayes classificou como:\" ,pred_naive)\n",
        "\n",
        "pred_svm = (modSVM.predict([[158.0, 1.0, 3071170.0, 4569978.0, 0.681]]))\n",
        "if pred_svm == 0 :\n",
        "  tot_baixa = tot_baixa + 1\n",
        "elif pred_svm == 1 :\n",
        "  tot_media = tot_media + 1\n",
        "else:\n",
        "  tot_alta = tot_alta + 1\n",
        "print(\"O SVM classificou como:\" ,pred_svm, \"\\n\")\n",
        "\n",
        "if tot_baixa >= 2:\n",
        "  print(\"O comitê acredita que a popularidade é baixa.\")\n",
        "elif tot_media >= 2:\n",
        "  print(\"O comitê acredita que a popularidade é média.\")\n",
        "else:\n",
        "  print(\"O comitê acredita que a popularidade é alta.\")\n",
        "\n",
        "if tot_baixa == 3 or tot_media == 3 or tot_alta == 3:\n",
        "  print(\"O comitê é unânime em sua opinião.\")"
      ],
      "metadata": {
        "colab": {
          "base_uri": "https://localhost:8080/"
        },
        "id": "LoOzVSoRuKJ2",
        "outputId": "cec637ea-6645-437c-ec1e-3e0c1ef112b6"
      },
      "execution_count": null,
      "outputs": [
        {
          "output_type": "stream",
          "name": "stdout",
          "text": [
            "O kNN classificou como: [1.]\n",
            "O Naive Bayes classificou como: [1.]\n",
            "O SVM classificou como: [1.] \n",
            "\n",
            "O comitê acredita que a popularidade é média.\n",
            "O comitê é unânime em sua opinião.\n"
          ]
        }
      ]
    }
  ]
}